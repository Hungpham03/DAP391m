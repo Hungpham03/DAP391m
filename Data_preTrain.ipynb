{
 "cells": [
  {
   "cell_type": "markdown",
   "metadata": {},
   "source": [
    "# Import necessary libraries"
   ]
  },
  {
   "cell_type": "code",
   "execution_count": 9,
   "metadata": {},
   "outputs": [],
   "source": [
    "# Import libraries\n",
    "import pandas as pd\n",
    "import numpy as np\n",
    "import openpyxl\n",
    "import seaborn as sns\n",
    "import matplotlib.pyplot as plt\n",
    "import emoji\n",
    "import re"
   ]
  },
  {
   "cell_type": "markdown",
   "metadata": {},
   "source": [
    "# Read datasets"
   ]
  },
  {
   "cell_type": "markdown",
   "metadata": {},
   "source": [
    "Take notes:\n",
    "\n",
    "\"Emotion column\": That column show the name of each emotion in every row\n",
    "\n",
    "\"Sentence\" column: Every row in this column contains a sentence called \"comments\" in Facebook"
   ]
  },
  {
   "cell_type": "code",
   "execution_count": 10,
   "metadata": {},
   "outputs": [],
   "source": [
    "train_df = pd.read_excel(\"./model_data/train_nor_811.xlsx\")\n",
    "val_df = pd.read_excel(\"./model_data/valid_nor_811.xlsx\")\n",
    "test_df = pd.read_excel(\"./model_data/test_nor_811.xlsx\")"
   ]
  },
  {
   "cell_type": "markdown",
   "metadata": {},
   "source": [
    "# View all datasets"
   ]
  },
  {
   "cell_type": "code",
   "execution_count": 11,
   "metadata": {},
   "outputs": [
    {
     "data": {
      "text/html": [
       "<div>\n",
       "<style scoped>\n",
       "    .dataframe tbody tr th:only-of-type {\n",
       "        vertical-align: middle;\n",
       "    }\n",
       "\n",
       "    .dataframe tbody tr th {\n",
       "        vertical-align: top;\n",
       "    }\n",
       "\n",
       "    .dataframe thead th {\n",
       "        text-align: right;\n",
       "    }\n",
       "</style>\n",
       "<table border=\"1\" class=\"dataframe\">\n",
       "  <thead>\n",
       "    <tr style=\"text-align: right;\">\n",
       "      <th></th>\n",
       "      <th>Unnamed: 0</th>\n",
       "      <th>Emotion</th>\n",
       "      <th>Sentence</th>\n",
       "    </tr>\n",
       "  </thead>\n",
       "  <tbody>\n",
       "    <tr>\n",
       "      <th>0</th>\n",
       "      <td>188</td>\n",
       "      <td>Other</td>\n",
       "      <td>cho mình xin bài nhạc tên là gì với ạ</td>\n",
       "    </tr>\n",
       "    <tr>\n",
       "      <th>1</th>\n",
       "      <td>166</td>\n",
       "      <td>Disgust</td>\n",
       "      <td>cho đáng đời con quỷ . về nhà lôi con nhà mày ...</td>\n",
       "    </tr>\n",
       "    <tr>\n",
       "      <th>2</th>\n",
       "      <td>1345</td>\n",
       "      <td>Disgust</td>\n",
       "      <td>lo học đi . yêu đương lol gì hay lại thích học...</td>\n",
       "    </tr>\n",
       "    <tr>\n",
       "      <th>3</th>\n",
       "      <td>316</td>\n",
       "      <td>Enjoyment</td>\n",
       "      <td>uớc gì sau này về già vẫn có thể như cụ này :))</td>\n",
       "    </tr>\n",
       "    <tr>\n",
       "      <th>4</th>\n",
       "      <td>1225</td>\n",
       "      <td>Enjoyment</td>\n",
       "      <td>mỗi lần có video của con là cứ coi đi coi lại ...</td>\n",
       "    </tr>\n",
       "    <tr>\n",
       "      <th>...</th>\n",
       "      <td>...</td>\n",
       "      <td>...</td>\n",
       "      <td>...</td>\n",
       "    </tr>\n",
       "    <tr>\n",
       "      <th>5543</th>\n",
       "      <td>1332</td>\n",
       "      <td>Disgust</td>\n",
       "      <td>đường của nhà cụ hay sao mà cụ cấm người ta đỗ...</td>\n",
       "    </tr>\n",
       "    <tr>\n",
       "      <th>5544</th>\n",
       "      <td>825</td>\n",
       "      <td>Other</td>\n",
       "      <td>nhìn mặt héo queo luôn</td>\n",
       "    </tr>\n",
       "    <tr>\n",
       "      <th>5545</th>\n",
       "      <td>165</td>\n",
       "      <td>Other</td>\n",
       "      <td>tao đi xe máy mỗi lần muốn để xe đi đâu là phi...</td>\n",
       "    </tr>\n",
       "    <tr>\n",
       "      <th>5546</th>\n",
       "      <td>363</td>\n",
       "      <td>Enjoyment</td>\n",
       "      <td>thích thân hình boss rồi nhan 😌</td>\n",
       "    </tr>\n",
       "    <tr>\n",
       "      <th>5547</th>\n",
       "      <td>1242</td>\n",
       "      <td>Sadness</td>\n",
       "      <td>ước mơ nhỏ nhoi của tao là được làm chị mà khô...</td>\n",
       "    </tr>\n",
       "  </tbody>\n",
       "</table>\n",
       "<p>5548 rows × 3 columns</p>\n",
       "</div>"
      ],
      "text/plain": [
       "      Unnamed: 0    Emotion                                           Sentence\n",
       "0            188      Other              cho mình xin bài nhạc tên là gì với ạ\n",
       "1            166    Disgust  cho đáng đời con quỷ . về nhà lôi con nhà mày ...\n",
       "2           1345    Disgust  lo học đi . yêu đương lol gì hay lại thích học...\n",
       "3            316  Enjoyment    uớc gì sau này về già vẫn có thể như cụ này :))\n",
       "4           1225  Enjoyment  mỗi lần có video của con là cứ coi đi coi lại ...\n",
       "...          ...        ...                                                ...\n",
       "5543        1332    Disgust  đường của nhà cụ hay sao mà cụ cấm người ta đỗ...\n",
       "5544         825      Other                             nhìn mặt héo queo luôn\n",
       "5545         165      Other  tao đi xe máy mỗi lần muốn để xe đi đâu là phi...\n",
       "5546         363  Enjoyment                    thích thân hình boss rồi nhan 😌\n",
       "5547        1242    Sadness  ước mơ nhỏ nhoi của tao là được làm chị mà khô...\n",
       "\n",
       "[5548 rows x 3 columns]"
      ]
     },
     "execution_count": 11,
     "metadata": {},
     "output_type": "execute_result"
    }
   ],
   "source": [
    "train_df"
   ]
  },
  {
   "cell_type": "code",
   "execution_count": 12,
   "metadata": {},
   "outputs": [
    {
     "data": {
      "text/html": [
       "<div>\n",
       "<style scoped>\n",
       "    .dataframe tbody tr th:only-of-type {\n",
       "        vertical-align: middle;\n",
       "    }\n",
       "\n",
       "    .dataframe tbody tr th {\n",
       "        vertical-align: top;\n",
       "    }\n",
       "\n",
       "    .dataframe thead th {\n",
       "        text-align: right;\n",
       "    }\n",
       "</style>\n",
       "<table border=\"1\" class=\"dataframe\">\n",
       "  <thead>\n",
       "    <tr style=\"text-align: right;\">\n",
       "      <th></th>\n",
       "      <th>Unnamed: 0</th>\n",
       "      <th>Emotion</th>\n",
       "      <th>Sentence</th>\n",
       "    </tr>\n",
       "  </thead>\n",
       "  <tbody>\n",
       "    <tr>\n",
       "      <th>0</th>\n",
       "      <td>941</td>\n",
       "      <td>Other</td>\n",
       "      <td>tính tao tao biết , chẳng có chuyện gì có thể ...</td>\n",
       "    </tr>\n",
       "    <tr>\n",
       "      <th>1</th>\n",
       "      <td>142</td>\n",
       "      <td>Enjoyment</td>\n",
       "      <td>lại là lào cai , tự hào quê mình quá :))</td>\n",
       "    </tr>\n",
       "    <tr>\n",
       "      <th>2</th>\n",
       "      <td>1164</td>\n",
       "      <td>Sadness</td>\n",
       "      <td>bị từ chối rồi</td>\n",
       "    </tr>\n",
       "    <tr>\n",
       "      <th>3</th>\n",
       "      <td>182</td>\n",
       "      <td>Enjoyment</td>\n",
       "      <td>tam đảo trời đẹp các mem à</td>\n",
       "    </tr>\n",
       "    <tr>\n",
       "      <th>4</th>\n",
       "      <td>868</td>\n",
       "      <td>Other</td>\n",
       "      <td>đọc bình luận của thằng đó không thiếu chữ nào 😂😂</td>\n",
       "    </tr>\n",
       "    <tr>\n",
       "      <th>...</th>\n",
       "      <td>...</td>\n",
       "      <td>...</td>\n",
       "      <td>...</td>\n",
       "    </tr>\n",
       "    <tr>\n",
       "      <th>681</th>\n",
       "      <td>1290</td>\n",
       "      <td>Sadness</td>\n",
       "      <td>nhọc lòng :(((</td>\n",
       "    </tr>\n",
       "    <tr>\n",
       "      <th>682</th>\n",
       "      <td>881</td>\n",
       "      <td>Sadness</td>\n",
       "      <td>tao đã rất muốn làm bạn tốt anh em tri kỉ với ...</td>\n",
       "    </tr>\n",
       "    <tr>\n",
       "      <th>683</th>\n",
       "      <td>1689</td>\n",
       "      <td>Disgust</td>\n",
       "      <td>cơm tấm ở ngoài cũng như này . 😡</td>\n",
       "    </tr>\n",
       "    <tr>\n",
       "      <th>684</th>\n",
       "      <td>1779</td>\n",
       "      <td>Surprise</td>\n",
       "      <td>chất liệu đỉnh quá</td>\n",
       "    </tr>\n",
       "    <tr>\n",
       "      <th>685</th>\n",
       "      <td>1486</td>\n",
       "      <td>Anger</td>\n",
       "      <td>dume lũ mất dạy . bố mẹ cho mày ăn học để dơ n...</td>\n",
       "    </tr>\n",
       "  </tbody>\n",
       "</table>\n",
       "<p>686 rows × 3 columns</p>\n",
       "</div>"
      ],
      "text/plain": [
       "     Unnamed: 0    Emotion                                           Sentence\n",
       "0           941      Other  tính tao tao biết , chẳng có chuyện gì có thể ...\n",
       "1           142  Enjoyment           lại là lào cai , tự hào quê mình quá :))\n",
       "2          1164    Sadness                                     bị từ chối rồi\n",
       "3           182  Enjoyment                         tam đảo trời đẹp các mem à\n",
       "4           868      Other  đọc bình luận của thằng đó không thiếu chữ nào 😂😂\n",
       "..          ...        ...                                                ...\n",
       "681        1290    Sadness                                     nhọc lòng :(((\n",
       "682         881    Sadness  tao đã rất muốn làm bạn tốt anh em tri kỉ với ...\n",
       "683        1689    Disgust                   cơm tấm ở ngoài cũng như này . 😡\n",
       "684        1779   Surprise                                 chất liệu đỉnh quá\n",
       "685        1486      Anger  dume lũ mất dạy . bố mẹ cho mày ăn học để dơ n...\n",
       "\n",
       "[686 rows x 3 columns]"
      ]
     },
     "execution_count": 12,
     "metadata": {},
     "output_type": "execute_result"
    }
   ],
   "source": [
    "val_df"
   ]
  },
  {
   "cell_type": "code",
   "execution_count": 13,
   "metadata": {},
   "outputs": [
    {
     "data": {
      "text/html": [
       "<div>\n",
       "<style scoped>\n",
       "    .dataframe tbody tr th:only-of-type {\n",
       "        vertical-align: middle;\n",
       "    }\n",
       "\n",
       "    .dataframe tbody tr th {\n",
       "        vertical-align: top;\n",
       "    }\n",
       "\n",
       "    .dataframe thead th {\n",
       "        text-align: right;\n",
       "    }\n",
       "</style>\n",
       "<table border=\"1\" class=\"dataframe\">\n",
       "  <thead>\n",
       "    <tr style=\"text-align: right;\">\n",
       "      <th></th>\n",
       "      <th>Unnamed: 0</th>\n",
       "      <th>Emotion</th>\n",
       "      <th>Sentence</th>\n",
       "    </tr>\n",
       "  </thead>\n",
       "  <tbody>\n",
       "    <tr>\n",
       "      <th>0</th>\n",
       "      <td>713</td>\n",
       "      <td>Sadness</td>\n",
       "      <td>người ta có bạn bè nhìn vui thật</td>\n",
       "    </tr>\n",
       "    <tr>\n",
       "      <th>1</th>\n",
       "      <td>1827</td>\n",
       "      <td>Surprise</td>\n",
       "      <td>cho nghỉ viêc mói đúng sao goi là kỷ luật</td>\n",
       "    </tr>\n",
       "    <tr>\n",
       "      <th>2</th>\n",
       "      <td>1166</td>\n",
       "      <td>Disgust</td>\n",
       "      <td>kinh vãi 😡</td>\n",
       "    </tr>\n",
       "    <tr>\n",
       "      <th>3</th>\n",
       "      <td>228</td>\n",
       "      <td>Fear</td>\n",
       "      <td>nhà thì không xa lắm nhưng chưa bao giờ đi vì ...</td>\n",
       "    </tr>\n",
       "    <tr>\n",
       "      <th>4</th>\n",
       "      <td>1942</td>\n",
       "      <td>Anger</td>\n",
       "      <td>bố không thích nộp đấy mày thích ý kiến không</td>\n",
       "    </tr>\n",
       "    <tr>\n",
       "      <th>...</th>\n",
       "      <td>...</td>\n",
       "      <td>...</td>\n",
       "      <td>...</td>\n",
       "    </tr>\n",
       "    <tr>\n",
       "      <th>688</th>\n",
       "      <td>432</td>\n",
       "      <td>Sadness</td>\n",
       "      <td>lúc thì cuốc đất è cổ ra không có giun mà câu ...</td>\n",
       "    </tr>\n",
       "    <tr>\n",
       "      <th>689</th>\n",
       "      <td>178</td>\n",
       "      <td>Enjoyment</td>\n",
       "      <td>các bác dẫn crush qua cây sữa nay mà hứng nước...</td>\n",
       "    </tr>\n",
       "    <tr>\n",
       "      <th>690</th>\n",
       "      <td>1863</td>\n",
       "      <td>Surprise</td>\n",
       "      <td>vợ chồng rồi mà trong sáng như này chỉ có tron...</td>\n",
       "    </tr>\n",
       "    <tr>\n",
       "      <th>691</th>\n",
       "      <td>476</td>\n",
       "      <td>Other</td>\n",
       "      <td>bep này vào binh dương dùng xuất</td>\n",
       "    </tr>\n",
       "    <tr>\n",
       "      <th>692</th>\n",
       "      <td>1607</td>\n",
       "      <td>Surprise</td>\n",
       "      <td>đôi mắt đằm thắm vãi</td>\n",
       "    </tr>\n",
       "  </tbody>\n",
       "</table>\n",
       "<p>693 rows × 3 columns</p>\n",
       "</div>"
      ],
      "text/plain": [
       "     Unnamed: 0    Emotion                                           Sentence\n",
       "0           713    Sadness                   người ta có bạn bè nhìn vui thật\n",
       "1          1827   Surprise          cho nghỉ viêc mói đúng sao goi là kỷ luật\n",
       "2          1166    Disgust                                         kinh vãi 😡\n",
       "3           228       Fear  nhà thì không xa lắm nhưng chưa bao giờ đi vì ...\n",
       "4          1942      Anger      bố không thích nộp đấy mày thích ý kiến không\n",
       "..          ...        ...                                                ...\n",
       "688         432    Sadness  lúc thì cuốc đất è cổ ra không có giun mà câu ...\n",
       "689         178  Enjoyment  các bác dẫn crush qua cây sữa nay mà hứng nước...\n",
       "690        1863   Surprise  vợ chồng rồi mà trong sáng như này chỉ có tron...\n",
       "691         476      Other                   bep này vào binh dương dùng xuất\n",
       "692        1607   Surprise                               đôi mắt đằm thắm vãi\n",
       "\n",
       "[693 rows x 3 columns]"
      ]
     },
     "execution_count": 13,
     "metadata": {},
     "output_type": "execute_result"
    }
   ],
   "source": [
    "test_df"
   ]
  },
  {
   "cell_type": "markdown",
   "metadata": {},
   "source": [
    "Remove \"Unnamed:0\" column of three tables"
   ]
  },
  {
   "cell_type": "code",
   "execution_count": 14,
   "metadata": {},
   "outputs": [
    {
     "data": {
      "text/html": [
       "<div>\n",
       "<style scoped>\n",
       "    .dataframe tbody tr th:only-of-type {\n",
       "        vertical-align: middle;\n",
       "    }\n",
       "\n",
       "    .dataframe tbody tr th {\n",
       "        vertical-align: top;\n",
       "    }\n",
       "\n",
       "    .dataframe thead th {\n",
       "        text-align: right;\n",
       "    }\n",
       "</style>\n",
       "<table border=\"1\" class=\"dataframe\">\n",
       "  <thead>\n",
       "    <tr style=\"text-align: right;\">\n",
       "      <th></th>\n",
       "      <th>Emotion</th>\n",
       "      <th>Sentence</th>\n",
       "    </tr>\n",
       "  </thead>\n",
       "  <tbody>\n",
       "    <tr>\n",
       "      <th>0</th>\n",
       "      <td>Other</td>\n",
       "      <td>cho mình xin bài nhạc tên là gì với ạ</td>\n",
       "    </tr>\n",
       "    <tr>\n",
       "      <th>1</th>\n",
       "      <td>Disgust</td>\n",
       "      <td>cho đáng đời con quỷ . về nhà lôi con nhà mày ...</td>\n",
       "    </tr>\n",
       "    <tr>\n",
       "      <th>2</th>\n",
       "      <td>Disgust</td>\n",
       "      <td>lo học đi . yêu đương lol gì hay lại thích học...</td>\n",
       "    </tr>\n",
       "    <tr>\n",
       "      <th>3</th>\n",
       "      <td>Enjoyment</td>\n",
       "      <td>uớc gì sau này về già vẫn có thể như cụ này :))</td>\n",
       "    </tr>\n",
       "    <tr>\n",
       "      <th>4</th>\n",
       "      <td>Enjoyment</td>\n",
       "      <td>mỗi lần có video của con là cứ coi đi coi lại ...</td>\n",
       "    </tr>\n",
       "    <tr>\n",
       "      <th>...</th>\n",
       "      <td>...</td>\n",
       "      <td>...</td>\n",
       "    </tr>\n",
       "    <tr>\n",
       "      <th>5543</th>\n",
       "      <td>Disgust</td>\n",
       "      <td>đường của nhà cụ hay sao mà cụ cấm người ta đỗ...</td>\n",
       "    </tr>\n",
       "    <tr>\n",
       "      <th>5544</th>\n",
       "      <td>Other</td>\n",
       "      <td>nhìn mặt héo queo luôn</td>\n",
       "    </tr>\n",
       "    <tr>\n",
       "      <th>5545</th>\n",
       "      <td>Other</td>\n",
       "      <td>tao đi xe máy mỗi lần muốn để xe đi đâu là phi...</td>\n",
       "    </tr>\n",
       "    <tr>\n",
       "      <th>5546</th>\n",
       "      <td>Enjoyment</td>\n",
       "      <td>thích thân hình boss rồi nhan 😌</td>\n",
       "    </tr>\n",
       "    <tr>\n",
       "      <th>5547</th>\n",
       "      <td>Sadness</td>\n",
       "      <td>ước mơ nhỏ nhoi của tao là được làm chị mà khô...</td>\n",
       "    </tr>\n",
       "  </tbody>\n",
       "</table>\n",
       "<p>5548 rows × 2 columns</p>\n",
       "</div>"
      ],
      "text/plain": [
       "        Emotion                                           Sentence\n",
       "0         Other              cho mình xin bài nhạc tên là gì với ạ\n",
       "1       Disgust  cho đáng đời con quỷ . về nhà lôi con nhà mày ...\n",
       "2       Disgust  lo học đi . yêu đương lol gì hay lại thích học...\n",
       "3     Enjoyment    uớc gì sau này về già vẫn có thể như cụ này :))\n",
       "4     Enjoyment  mỗi lần có video của con là cứ coi đi coi lại ...\n",
       "...         ...                                                ...\n",
       "5543    Disgust  đường của nhà cụ hay sao mà cụ cấm người ta đỗ...\n",
       "5544      Other                             nhìn mặt héo queo luôn\n",
       "5545      Other  tao đi xe máy mỗi lần muốn để xe đi đâu là phi...\n",
       "5546  Enjoyment                    thích thân hình boss rồi nhan 😌\n",
       "5547    Sadness  ước mơ nhỏ nhoi của tao là được làm chị mà khô...\n",
       "\n",
       "[5548 rows x 2 columns]"
      ]
     },
     "execution_count": 14,
     "metadata": {},
     "output_type": "execute_result"
    }
   ],
   "source": [
    "train_df = train_df.drop(\"Unnamed: 0\", axis=1)\n",
    "train_df"
   ]
  },
  {
   "cell_type": "code",
   "execution_count": 15,
   "metadata": {},
   "outputs": [
    {
     "data": {
      "text/html": [
       "<div>\n",
       "<style scoped>\n",
       "    .dataframe tbody tr th:only-of-type {\n",
       "        vertical-align: middle;\n",
       "    }\n",
       "\n",
       "    .dataframe tbody tr th {\n",
       "        vertical-align: top;\n",
       "    }\n",
       "\n",
       "    .dataframe thead th {\n",
       "        text-align: right;\n",
       "    }\n",
       "</style>\n",
       "<table border=\"1\" class=\"dataframe\">\n",
       "  <thead>\n",
       "    <tr style=\"text-align: right;\">\n",
       "      <th></th>\n",
       "      <th>Emotion</th>\n",
       "      <th>Sentence</th>\n",
       "    </tr>\n",
       "  </thead>\n",
       "  <tbody>\n",
       "    <tr>\n",
       "      <th>0</th>\n",
       "      <td>Other</td>\n",
       "      <td>tính tao tao biết , chẳng có chuyện gì có thể ...</td>\n",
       "    </tr>\n",
       "    <tr>\n",
       "      <th>1</th>\n",
       "      <td>Enjoyment</td>\n",
       "      <td>lại là lào cai , tự hào quê mình quá :))</td>\n",
       "    </tr>\n",
       "    <tr>\n",
       "      <th>2</th>\n",
       "      <td>Sadness</td>\n",
       "      <td>bị từ chối rồi</td>\n",
       "    </tr>\n",
       "    <tr>\n",
       "      <th>3</th>\n",
       "      <td>Enjoyment</td>\n",
       "      <td>tam đảo trời đẹp các mem à</td>\n",
       "    </tr>\n",
       "    <tr>\n",
       "      <th>4</th>\n",
       "      <td>Other</td>\n",
       "      <td>đọc bình luận của thằng đó không thiếu chữ nào 😂😂</td>\n",
       "    </tr>\n",
       "    <tr>\n",
       "      <th>...</th>\n",
       "      <td>...</td>\n",
       "      <td>...</td>\n",
       "    </tr>\n",
       "    <tr>\n",
       "      <th>681</th>\n",
       "      <td>Sadness</td>\n",
       "      <td>nhọc lòng :(((</td>\n",
       "    </tr>\n",
       "    <tr>\n",
       "      <th>682</th>\n",
       "      <td>Sadness</td>\n",
       "      <td>tao đã rất muốn làm bạn tốt anh em tri kỉ với ...</td>\n",
       "    </tr>\n",
       "    <tr>\n",
       "      <th>683</th>\n",
       "      <td>Disgust</td>\n",
       "      <td>cơm tấm ở ngoài cũng như này . 😡</td>\n",
       "    </tr>\n",
       "    <tr>\n",
       "      <th>684</th>\n",
       "      <td>Surprise</td>\n",
       "      <td>chất liệu đỉnh quá</td>\n",
       "    </tr>\n",
       "    <tr>\n",
       "      <th>685</th>\n",
       "      <td>Anger</td>\n",
       "      <td>dume lũ mất dạy . bố mẹ cho mày ăn học để dơ n...</td>\n",
       "    </tr>\n",
       "  </tbody>\n",
       "</table>\n",
       "<p>686 rows × 2 columns</p>\n",
       "</div>"
      ],
      "text/plain": [
       "       Emotion                                           Sentence\n",
       "0        Other  tính tao tao biết , chẳng có chuyện gì có thể ...\n",
       "1    Enjoyment           lại là lào cai , tự hào quê mình quá :))\n",
       "2      Sadness                                     bị từ chối rồi\n",
       "3    Enjoyment                         tam đảo trời đẹp các mem à\n",
       "4        Other  đọc bình luận của thằng đó không thiếu chữ nào 😂😂\n",
       "..         ...                                                ...\n",
       "681    Sadness                                     nhọc lòng :(((\n",
       "682    Sadness  tao đã rất muốn làm bạn tốt anh em tri kỉ với ...\n",
       "683    Disgust                   cơm tấm ở ngoài cũng như này . 😡\n",
       "684   Surprise                                 chất liệu đỉnh quá\n",
       "685      Anger  dume lũ mất dạy . bố mẹ cho mày ăn học để dơ n...\n",
       "\n",
       "[686 rows x 2 columns]"
      ]
     },
     "execution_count": 15,
     "metadata": {},
     "output_type": "execute_result"
    }
   ],
   "source": [
    "val_df = val_df.drop(\"Unnamed: 0\", axis=1)\n",
    "val_df"
   ]
  },
  {
   "cell_type": "code",
   "execution_count": 16,
   "metadata": {},
   "outputs": [
    {
     "data": {
      "text/html": [
       "<div>\n",
       "<style scoped>\n",
       "    .dataframe tbody tr th:only-of-type {\n",
       "        vertical-align: middle;\n",
       "    }\n",
       "\n",
       "    .dataframe tbody tr th {\n",
       "        vertical-align: top;\n",
       "    }\n",
       "\n",
       "    .dataframe thead th {\n",
       "        text-align: right;\n",
       "    }\n",
       "</style>\n",
       "<table border=\"1\" class=\"dataframe\">\n",
       "  <thead>\n",
       "    <tr style=\"text-align: right;\">\n",
       "      <th></th>\n",
       "      <th>Emotion</th>\n",
       "      <th>Sentence</th>\n",
       "    </tr>\n",
       "  </thead>\n",
       "  <tbody>\n",
       "    <tr>\n",
       "      <th>0</th>\n",
       "      <td>Sadness</td>\n",
       "      <td>người ta có bạn bè nhìn vui thật</td>\n",
       "    </tr>\n",
       "    <tr>\n",
       "      <th>1</th>\n",
       "      <td>Surprise</td>\n",
       "      <td>cho nghỉ viêc mói đúng sao goi là kỷ luật</td>\n",
       "    </tr>\n",
       "    <tr>\n",
       "      <th>2</th>\n",
       "      <td>Disgust</td>\n",
       "      <td>kinh vãi 😡</td>\n",
       "    </tr>\n",
       "    <tr>\n",
       "      <th>3</th>\n",
       "      <td>Fear</td>\n",
       "      <td>nhà thì không xa lắm nhưng chưa bao giờ đi vì ...</td>\n",
       "    </tr>\n",
       "    <tr>\n",
       "      <th>4</th>\n",
       "      <td>Anger</td>\n",
       "      <td>bố không thích nộp đấy mày thích ý kiến không</td>\n",
       "    </tr>\n",
       "    <tr>\n",
       "      <th>...</th>\n",
       "      <td>...</td>\n",
       "      <td>...</td>\n",
       "    </tr>\n",
       "    <tr>\n",
       "      <th>688</th>\n",
       "      <td>Sadness</td>\n",
       "      <td>lúc thì cuốc đất è cổ ra không có giun mà câu ...</td>\n",
       "    </tr>\n",
       "    <tr>\n",
       "      <th>689</th>\n",
       "      <td>Enjoyment</td>\n",
       "      <td>các bác dẫn crush qua cây sữa nay mà hứng nước...</td>\n",
       "    </tr>\n",
       "    <tr>\n",
       "      <th>690</th>\n",
       "      <td>Surprise</td>\n",
       "      <td>vợ chồng rồi mà trong sáng như này chỉ có tron...</td>\n",
       "    </tr>\n",
       "    <tr>\n",
       "      <th>691</th>\n",
       "      <td>Other</td>\n",
       "      <td>bep này vào binh dương dùng xuất</td>\n",
       "    </tr>\n",
       "    <tr>\n",
       "      <th>692</th>\n",
       "      <td>Surprise</td>\n",
       "      <td>đôi mắt đằm thắm vãi</td>\n",
       "    </tr>\n",
       "  </tbody>\n",
       "</table>\n",
       "<p>693 rows × 2 columns</p>\n",
       "</div>"
      ],
      "text/plain": [
       "       Emotion                                           Sentence\n",
       "0      Sadness                   người ta có bạn bè nhìn vui thật\n",
       "1     Surprise          cho nghỉ viêc mói đúng sao goi là kỷ luật\n",
       "2      Disgust                                         kinh vãi 😡\n",
       "3         Fear  nhà thì không xa lắm nhưng chưa bao giờ đi vì ...\n",
       "4        Anger      bố không thích nộp đấy mày thích ý kiến không\n",
       "..         ...                                                ...\n",
       "688    Sadness  lúc thì cuốc đất è cổ ra không có giun mà câu ...\n",
       "689  Enjoyment  các bác dẫn crush qua cây sữa nay mà hứng nước...\n",
       "690   Surprise  vợ chồng rồi mà trong sáng như này chỉ có tron...\n",
       "691      Other                   bep này vào binh dương dùng xuất\n",
       "692   Surprise                               đôi mắt đằm thắm vãi\n",
       "\n",
       "[693 rows x 2 columns]"
      ]
     },
     "execution_count": 16,
     "metadata": {},
     "output_type": "execute_result"
    }
   ],
   "source": [
    "test_df = test_df.drop(\"Unnamed: 0\", axis=1)\n",
    "test_df"
   ]
  },
  {
   "cell_type": "markdown",
   "metadata": {},
   "source": [
    "Data types of three tables"
   ]
  },
  {
   "cell_type": "code",
   "execution_count": 17,
   "metadata": {},
   "outputs": [
    {
     "data": {
      "text/plain": [
       "Emotion     object\n",
       "Sentence    object\n",
       "dtype: object"
      ]
     },
     "execution_count": 17,
     "metadata": {},
     "output_type": "execute_result"
    }
   ],
   "source": [
    "train_df.dtypes"
   ]
  },
  {
   "cell_type": "code",
   "execution_count": 18,
   "metadata": {},
   "outputs": [
    {
     "data": {
      "text/plain": [
       "Emotion     object\n",
       "Sentence    object\n",
       "dtype: object"
      ]
     },
     "execution_count": 18,
     "metadata": {},
     "output_type": "execute_result"
    }
   ],
   "source": [
    "val_df.dtypes"
   ]
  },
  {
   "cell_type": "code",
   "execution_count": 19,
   "metadata": {},
   "outputs": [
    {
     "data": {
      "text/plain": [
       "Emotion     object\n",
       "Sentence    object\n",
       "dtype: object"
      ]
     },
     "execution_count": 19,
     "metadata": {},
     "output_type": "execute_result"
    }
   ],
   "source": [
    "test_df.dtypes"
   ]
  },
  {
   "cell_type": "markdown",
   "metadata": {},
   "source": [
    "# Data Analysis"
   ]
  },
  {
   "cell_type": "markdown",
   "metadata": {},
   "source": [
    "1. Show the information of 3 datasets: train, val, test"
   ]
  },
  {
   "cell_type": "code",
   "execution_count": 20,
   "metadata": {},
   "outputs": [
    {
     "name": "stdout",
     "output_type": "stream",
     "text": [
      "<class 'pandas.core.frame.DataFrame'>\n",
      "RangeIndex: 5548 entries, 0 to 5547\n",
      "Data columns (total 2 columns):\n",
      " #   Column    Non-Null Count  Dtype \n",
      "---  ------    --------------  ----- \n",
      " 0   Emotion   5548 non-null   object\n",
      " 1   Sentence  5548 non-null   object\n",
      "dtypes: object(2)\n",
      "memory usage: 86.8+ KB\n"
     ]
    }
   ],
   "source": [
    "train_df.info()"
   ]
  },
  {
   "cell_type": "code",
   "execution_count": 21,
   "metadata": {},
   "outputs": [
    {
     "name": "stdout",
     "output_type": "stream",
     "text": [
      "<class 'pandas.core.frame.DataFrame'>\n",
      "RangeIndex: 686 entries, 0 to 685\n",
      "Data columns (total 2 columns):\n",
      " #   Column    Non-Null Count  Dtype \n",
      "---  ------    --------------  ----- \n",
      " 0   Emotion   686 non-null    object\n",
      " 1   Sentence  686 non-null    object\n",
      "dtypes: object(2)\n",
      "memory usage: 10.8+ KB\n"
     ]
    }
   ],
   "source": [
    "val_df.info()"
   ]
  },
  {
   "cell_type": "code",
   "execution_count": 22,
   "metadata": {},
   "outputs": [
    {
     "name": "stdout",
     "output_type": "stream",
     "text": [
      "<class 'pandas.core.frame.DataFrame'>\n",
      "RangeIndex: 693 entries, 0 to 692\n",
      "Data columns (total 2 columns):\n",
      " #   Column    Non-Null Count  Dtype \n",
      "---  ------    --------------  ----- \n",
      " 0   Emotion   693 non-null    object\n",
      " 1   Sentence  693 non-null    object\n",
      "dtypes: object(2)\n",
      "memory usage: 11.0+ KB\n"
     ]
    }
   ],
   "source": [
    "test_df.info()"
   ]
  },
  {
   "cell_type": "markdown",
   "metadata": {},
   "source": [
    "2. Describe three tables: train table, val table, test table"
   ]
  },
  {
   "cell_type": "code",
   "execution_count": 23,
   "metadata": {},
   "outputs": [
    {
     "data": {
      "text/html": [
       "<div>\n",
       "<style scoped>\n",
       "    .dataframe tbody tr th:only-of-type {\n",
       "        vertical-align: middle;\n",
       "    }\n",
       "\n",
       "    .dataframe tbody tr th {\n",
       "        vertical-align: top;\n",
       "    }\n",
       "\n",
       "    .dataframe thead th {\n",
       "        text-align: right;\n",
       "    }\n",
       "</style>\n",
       "<table border=\"1\" class=\"dataframe\">\n",
       "  <thead>\n",
       "    <tr style=\"text-align: right;\">\n",
       "      <th></th>\n",
       "      <th>Emotion</th>\n",
       "      <th>Sentence</th>\n",
       "    </tr>\n",
       "  </thead>\n",
       "  <tbody>\n",
       "    <tr>\n",
       "      <th>count</th>\n",
       "      <td>5548</td>\n",
       "      <td>5548</td>\n",
       "    </tr>\n",
       "    <tr>\n",
       "      <th>unique</th>\n",
       "      <td>7</td>\n",
       "      <td>5544</td>\n",
       "    </tr>\n",
       "    <tr>\n",
       "      <th>top</th>\n",
       "      <td>Enjoyment</td>\n",
       "      <td>per bây giờ thì không nói nhưng mà cảm giác ph...</td>\n",
       "    </tr>\n",
       "    <tr>\n",
       "      <th>freq</th>\n",
       "      <td>1558</td>\n",
       "      <td>2</td>\n",
       "    </tr>\n",
       "  </tbody>\n",
       "</table>\n",
       "</div>"
      ],
      "text/plain": [
       "          Emotion                                           Sentence\n",
       "count        5548                                               5548\n",
       "unique          7                                               5544\n",
       "top     Enjoyment  per bây giờ thì không nói nhưng mà cảm giác ph...\n",
       "freq         1558                                                  2"
      ]
     },
     "execution_count": 23,
     "metadata": {},
     "output_type": "execute_result"
    }
   ],
   "source": [
    "train_df.describe()"
   ]
  },
  {
   "cell_type": "code",
   "execution_count": 24,
   "metadata": {},
   "outputs": [
    {
     "data": {
      "text/html": [
       "<div>\n",
       "<style scoped>\n",
       "    .dataframe tbody tr th:only-of-type {\n",
       "        vertical-align: middle;\n",
       "    }\n",
       "\n",
       "    .dataframe tbody tr th {\n",
       "        vertical-align: top;\n",
       "    }\n",
       "\n",
       "    .dataframe thead th {\n",
       "        text-align: right;\n",
       "    }\n",
       "</style>\n",
       "<table border=\"1\" class=\"dataframe\">\n",
       "  <thead>\n",
       "    <tr style=\"text-align: right;\">\n",
       "      <th></th>\n",
       "      <th>Emotion</th>\n",
       "      <th>Sentence</th>\n",
       "    </tr>\n",
       "  </thead>\n",
       "  <tbody>\n",
       "    <tr>\n",
       "      <th>count</th>\n",
       "      <td>686</td>\n",
       "      <td>686</td>\n",
       "    </tr>\n",
       "    <tr>\n",
       "      <th>unique</th>\n",
       "      <td>7</td>\n",
       "      <td>686</td>\n",
       "    </tr>\n",
       "    <tr>\n",
       "      <th>top</th>\n",
       "      <td>Enjoyment</td>\n",
       "      <td>tính tao tao biết , chẳng có chuyện gì có thể ...</td>\n",
       "    </tr>\n",
       "    <tr>\n",
       "      <th>freq</th>\n",
       "      <td>214</td>\n",
       "      <td>1</td>\n",
       "    </tr>\n",
       "  </tbody>\n",
       "</table>\n",
       "</div>"
      ],
      "text/plain": [
       "          Emotion                                           Sentence\n",
       "count         686                                                686\n",
       "unique          7                                                686\n",
       "top     Enjoyment  tính tao tao biết , chẳng có chuyện gì có thể ...\n",
       "freq          214                                                  1"
      ]
     },
     "execution_count": 24,
     "metadata": {},
     "output_type": "execute_result"
    }
   ],
   "source": [
    "val_df.describe()"
   ]
  },
  {
   "cell_type": "code",
   "execution_count": 25,
   "metadata": {},
   "outputs": [
    {
     "data": {
      "text/html": [
       "<div>\n",
       "<style scoped>\n",
       "    .dataframe tbody tr th:only-of-type {\n",
       "        vertical-align: middle;\n",
       "    }\n",
       "\n",
       "    .dataframe tbody tr th {\n",
       "        vertical-align: top;\n",
       "    }\n",
       "\n",
       "    .dataframe thead th {\n",
       "        text-align: right;\n",
       "    }\n",
       "</style>\n",
       "<table border=\"1\" class=\"dataframe\">\n",
       "  <thead>\n",
       "    <tr style=\"text-align: right;\">\n",
       "      <th></th>\n",
       "      <th>Emotion</th>\n",
       "      <th>Sentence</th>\n",
       "    </tr>\n",
       "  </thead>\n",
       "  <tbody>\n",
       "    <tr>\n",
       "      <th>count</th>\n",
       "      <td>693</td>\n",
       "      <td>693</td>\n",
       "    </tr>\n",
       "    <tr>\n",
       "      <th>unique</th>\n",
       "      <td>7</td>\n",
       "      <td>692</td>\n",
       "    </tr>\n",
       "    <tr>\n",
       "      <th>top</th>\n",
       "      <td>Enjoyment</td>\n",
       "      <td>nhìn cái bản mặt bà ta mà ghét thay . tham vô ...</td>\n",
       "    </tr>\n",
       "    <tr>\n",
       "      <th>freq</th>\n",
       "      <td>193</td>\n",
       "      <td>2</td>\n",
       "    </tr>\n",
       "  </tbody>\n",
       "</table>\n",
       "</div>"
      ],
      "text/plain": [
       "          Emotion                                           Sentence\n",
       "count         693                                                693\n",
       "unique          7                                                692\n",
       "top     Enjoyment  nhìn cái bản mặt bà ta mà ghét thay . tham vô ...\n",
       "freq          193                                                  2"
      ]
     },
     "execution_count": 25,
     "metadata": {},
     "output_type": "execute_result"
    }
   ],
   "source": [
    "test_df.describe()"
   ]
  },
  {
   "cell_type": "markdown",
   "metadata": {},
   "source": [
    "3. Check whether value is null or not"
   ]
  },
  {
   "cell_type": "code",
   "execution_count": 26,
   "metadata": {},
   "outputs": [
    {
     "data": {
      "text/plain": [
       "Emotion     0\n",
       "Sentence    0\n",
       "dtype: int64"
      ]
     },
     "execution_count": 26,
     "metadata": {},
     "output_type": "execute_result"
    }
   ],
   "source": [
    "train_df.isnull().sum()"
   ]
  },
  {
   "cell_type": "code",
   "execution_count": 27,
   "metadata": {},
   "outputs": [
    {
     "data": {
      "text/plain": [
       "Emotion     0\n",
       "Sentence    0\n",
       "dtype: int64"
      ]
     },
     "execution_count": 27,
     "metadata": {},
     "output_type": "execute_result"
    }
   ],
   "source": [
    "val_df.isnull().sum()"
   ]
  },
  {
   "cell_type": "code",
   "execution_count": 28,
   "metadata": {},
   "outputs": [
    {
     "data": {
      "text/plain": [
       "Emotion     0\n",
       "Sentence    0\n",
       "dtype: int64"
      ]
     },
     "execution_count": 28,
     "metadata": {},
     "output_type": "execute_result"
    }
   ],
   "source": [
    "test_df.isnull().sum()"
   ]
  },
  {
   "cell_type": "markdown",
   "metadata": {},
   "source": [
    "4. Count the number of emotions in each dataset"
   ]
  },
  {
   "cell_type": "code",
   "execution_count": 29,
   "metadata": {},
   "outputs": [
    {
     "data": {
      "text/plain": [
       "Emotion\n",
       "Enjoyment    1558\n",
       "Disgust      1071\n",
       "Other        1021\n",
       "Sadness       947\n",
       "Anger         391\n",
       "Fear          318\n",
       "Surprise      242\n",
       "Name: count, dtype: int64"
      ]
     },
     "execution_count": 29,
     "metadata": {},
     "output_type": "execute_result"
    }
   ],
   "source": [
    "train_freq = train_df['Emotion'].value_counts()\n",
    "train_freq"
   ]
  },
  {
   "cell_type": "code",
   "execution_count": 30,
   "metadata": {},
   "outputs": [
    {
     "data": {
      "text/plain": [
       "Emotion\n",
       "Enjoyment    214\n",
       "Other        141\n",
       "Disgust      135\n",
       "Sadness       86\n",
       "Anger         49\n",
       "Fear          31\n",
       "Surprise      30\n",
       "Name: count, dtype: int64"
      ]
     },
     "execution_count": 30,
     "metadata": {},
     "output_type": "execute_result"
    }
   ],
   "source": [
    "val_freq = val_df['Emotion'].value_counts()\n",
    "val_freq"
   ]
  },
  {
   "cell_type": "code",
   "execution_count": 31,
   "metadata": {},
   "outputs": [
    {
     "data": {
      "text/plain": [
       "Emotion\n",
       "Enjoyment    193\n",
       "Disgust      132\n",
       "Other        129\n",
       "Sadness      116\n",
       "Fear          46\n",
       "Anger         40\n",
       "Surprise      37\n",
       "Name: count, dtype: int64"
      ]
     },
     "execution_count": 31,
     "metadata": {},
     "output_type": "execute_result"
    }
   ],
   "source": [
    "test_freq = test_df['Emotion'].value_counts()\n",
    "test_freq"
   ]
  },
  {
   "cell_type": "markdown",
   "metadata": {},
   "source": [
    "# Data Visualization"
   ]
  },
  {
   "cell_type": "markdown",
   "metadata": {},
   "source": [
    "1. Train table"
   ]
  },
  {
   "cell_type": "code",
   "execution_count": 32,
   "metadata": {},
   "outputs": [
    {
     "data": {
      "text/plain": [
       "<Axes: xlabel='Emotion', ylabel='count'>"
      ]
     },
     "execution_count": 32,
     "metadata": {},
     "output_type": "execute_result"
    },
    {
     "data": {
      "image/png": "[encoded data removed]",
      "text/plain": [
       "<Figure size 640x480 with 1 Axes>"
      ]
     },
     "metadata": {},
     "output_type": "display_data"
    }
   ],
   "source": [
    "sns.countplot(x='Emotion', data=train_df)"
   ]
  },
  {
   "cell_type": "code",
   "execution_count": 33,
   "metadata": {},
   "outputs": [
    {
     "data": {
      "image/png": "[encoded data removed]",
      "text/plain": [
       "<Figure size 600x600 with 1 Axes>"
      ]
     },
     "metadata": {},
     "output_type": "display_data"
    }
   ],
   "source": [
    "# Màu sắc cho các phần của biểu đồ\n",
    "colors = ['green', 'red', 'gray',\"blue\",\"yellow\",\"orange\",\"purple\"]\n",
    "\n",
    "label =[\"Enjoyment\",\"Disgust\",\"Other\", \"Sadness\", \"Anger\",\"Fear\", \"Surprise\"]\n",
    "\n",
    "# Tạo biểu đồ tròn\n",
    "plt.figure(figsize=(6, 6))\n",
    "plt.pie(train_freq, labels=label, colors=colors, autopct='%1.1f%%', startangle=140)\n",
    "plt.title('Frequency of every emotion in train table')\n",
    "plt.axis('equal')  # Đảm bảo biểu đồ tròn không bị méo\n",
    "plt.show()\n"
   ]
  },
  {
   "cell_type": "markdown",
   "metadata": {},
   "source": [
    "2. Val table"
   ]
  },
  {
   "cell_type": "code",
   "execution_count": 34,
   "metadata": {},
   "outputs": [
    {
     "data": {
      "text/plain": [
       "<Axes: xlabel='Emotion', ylabel='count'>"
      ]
     },
     "execution_count": 34,
     "metadata": {},
     "output_type": "execute_result"
    },
    {
     "data": {
      "image/png": "[encoded data removed]",
      "text/plain": [
       "<Figure size 640x480 with 1 Axes>"
      ]
     },
     "metadata": {},
     "output_type": "display_data"
    }
   ],
   "source": [
    "sns.countplot(x='Emotion', data=val_df)"
   ]
  },
  {
   "cell_type": "code",
   "execution_count": 35,
   "metadata": {},
   "outputs": [
    {
     "data": {
      "image/png": "[encoded data removed]",
      "text/plain": [
       "<Figure size 600x600 with 1 Axes>"
      ]
     },
     "metadata": {},
     "output_type": "display_data"
    }
   ],
   "source": [
    "# Màu sắc cho các phần của biểu đồ\n",
    "colors = ['green', 'red', 'gray',\"blue\",\"yellow\",\"orange\",\"purple\"]\n",
    "\n",
    "label =[\"Enjoyment\",\"Other\",\"Disgust\", \"Sadness\", \"Anger\",\"Fear\", \"Surprise\"]\n",
    "\n",
    "# Tạo biểu đồ tròn\n",
    "plt.figure(figsize=(6, 6))\n",
    "plt.pie(val_freq, labels=label, colors=colors, autopct='%1.1f%%', startangle=140)\n",
    "plt.title('Frequency of every emotion in train table')\n",
    "plt.axis('equal')  # Đảm bảo biểu đồ tròn không bị méo\n",
    "plt.show()"
   ]
  },
  {
   "cell_type": "markdown",
   "metadata": {},
   "source": [
    "3. Test table"
   ]
  },
  {
   "cell_type": "code",
   "execution_count": 36,
   "metadata": {},
   "outputs": [
    {
     "data": {
      "text/plain": [
       "<Axes: xlabel='Emotion', ylabel='count'>"
      ]
     },
     "execution_count": 36,
     "metadata": {},
     "output_type": "execute_result"
    },
    {
     "data": {
      "image/png": "[encoded data removed]",
      "text/plain": [
       "<Figure size 640x480 with 1 Axes>"
      ]
     },
     "metadata": {},
     "output_type": "display_data"
    }
   ],
   "source": [
    "sns.countplot(x='Emotion', data=test_df)"
   ]
  },
  {
   "cell_type": "code",
   "execution_count": 37,
   "metadata": {},
   "outputs": [
    {
     "data": {
      "image/png": "[encoded data removed]",
      "text/plain": [
       "<Figure size 600x600 with 1 Axes>"
      ]
     },
     "metadata": {},
     "output_type": "display_data"
    }
   ],
   "source": [
    "# Màu sắc cho các phần của biểu đồ\n",
    "colors = ['green', 'red', 'gray',\"blue\",\"yellow\",\"orange\",\"purple\"]\n",
    "\n",
    "label =[\"Enjoyment\",\"Disgust\",\"Other\", \"Sadness\", \"Fear\",\"Anger\", \"Surprise\"]\n",
    "\n",
    "# Tạo biểu đồ tròn\n",
    "plt.figure(figsize=(6, 6))\n",
    "plt.pie(test_freq, labels=label, colors=colors, autopct='%1.1f%%', startangle=140)\n",
    "plt.title('Frequency of every emotion in train table')\n",
    "plt.axis('equal')  # Đảm bảo biểu đồ tròn không bị méo\n",
    "plt.show()"
   ]
  },
  {
   "cell_type": "markdown",
   "metadata": {},
   "source": [
    "4. A table that contains all from 3 tables: train, val, test"
   ]
  },
  {
   "cell_type": "code",
   "execution_count": 38,
   "metadata": {},
   "outputs": [
    {
     "data": {
      "text/html": [
       "<div>\n",
       "<style scoped>\n",
       "    .dataframe tbody tr th:only-of-type {\n",
       "        vertical-align: middle;\n",
       "    }\n",
       "\n",
       "    .dataframe tbody tr th {\n",
       "        vertical-align: top;\n",
       "    }\n",
       "\n",
       "    .dataframe thead th {\n",
       "        text-align: right;\n",
       "    }\n",
       "</style>\n",
       "<table border=\"1\" class=\"dataframe\">\n",
       "  <thead>\n",
       "    <tr style=\"text-align: right;\">\n",
       "      <th></th>\n",
       "      <th>Emotion</th>\n",
       "      <th>Sentence</th>\n",
       "    </tr>\n",
       "  </thead>\n",
       "  <tbody>\n",
       "    <tr>\n",
       "      <th>0</th>\n",
       "      <td>Other</td>\n",
       "      <td>cho mình xin bài nhạc tên là gì với ạ</td>\n",
       "    </tr>\n",
       "    <tr>\n",
       "      <th>1</th>\n",
       "      <td>Disgust</td>\n",
       "      <td>cho đáng đời con quỷ . về nhà lôi con nhà mày ...</td>\n",
       "    </tr>\n",
       "    <tr>\n",
       "      <th>2</th>\n",
       "      <td>Disgust</td>\n",
       "      <td>lo học đi . yêu đương lol gì hay lại thích học...</td>\n",
       "    </tr>\n",
       "    <tr>\n",
       "      <th>3</th>\n",
       "      <td>Enjoyment</td>\n",
       "      <td>uớc gì sau này về già vẫn có thể như cụ này :))</td>\n",
       "    </tr>\n",
       "    <tr>\n",
       "      <th>4</th>\n",
       "      <td>Enjoyment</td>\n",
       "      <td>mỗi lần có video của con là cứ coi đi coi lại ...</td>\n",
       "    </tr>\n",
       "    <tr>\n",
       "      <th>...</th>\n",
       "      <td>...</td>\n",
       "      <td>...</td>\n",
       "    </tr>\n",
       "    <tr>\n",
       "      <th>6922</th>\n",
       "      <td>Sadness</td>\n",
       "      <td>lúc thì cuốc đất è cổ ra không có giun mà câu ...</td>\n",
       "    </tr>\n",
       "    <tr>\n",
       "      <th>6923</th>\n",
       "      <td>Enjoyment</td>\n",
       "      <td>các bác dẫn crush qua cây sữa nay mà hứng nước...</td>\n",
       "    </tr>\n",
       "    <tr>\n",
       "      <th>6924</th>\n",
       "      <td>Surprise</td>\n",
       "      <td>vợ chồng rồi mà trong sáng như này chỉ có tron...</td>\n",
       "    </tr>\n",
       "    <tr>\n",
       "      <th>6925</th>\n",
       "      <td>Other</td>\n",
       "      <td>bep này vào binh dương dùng xuất</td>\n",
       "    </tr>\n",
       "    <tr>\n",
       "      <th>6926</th>\n",
       "      <td>Surprise</td>\n",
       "      <td>đôi mắt đằm thắm vãi</td>\n",
       "    </tr>\n",
       "  </tbody>\n",
       "</table>\n",
       "<p>6927 rows × 2 columns</p>\n",
       "</div>"
      ],
      "text/plain": [
       "        Emotion                                           Sentence\n",
       "0         Other              cho mình xin bài nhạc tên là gì với ạ\n",
       "1       Disgust  cho đáng đời con quỷ . về nhà lôi con nhà mày ...\n",
       "2       Disgust  lo học đi . yêu đương lol gì hay lại thích học...\n",
       "3     Enjoyment    uớc gì sau này về già vẫn có thể như cụ này :))\n",
       "4     Enjoyment  mỗi lần có video của con là cứ coi đi coi lại ...\n",
       "...         ...                                                ...\n",
       "6922    Sadness  lúc thì cuốc đất è cổ ra không có giun mà câu ...\n",
       "6923  Enjoyment  các bác dẫn crush qua cây sữa nay mà hứng nước...\n",
       "6924   Surprise  vợ chồng rồi mà trong sáng như này chỉ có tron...\n",
       "6925      Other                   bep này vào binh dương dùng xuất\n",
       "6926   Surprise                               đôi mắt đằm thắm vãi\n",
       "\n",
       "[6927 rows x 2 columns]"
      ]
     },
     "execution_count": 38,
     "metadata": {},
     "output_type": "execute_result"
    }
   ],
   "source": [
    "# Create a table that consists of 3 tables: train, val, test\n",
    "all_df = pd.concat([train_df, val_df, test_df], ignore_index=True)\n",
    "all_df"
   ]
  },
  {
   "cell_type": "code",
   "execution_count": 39,
   "metadata": {},
   "outputs": [
    {
     "name": "stdout",
     "output_type": "stream",
     "text": [
      "<class 'pandas.core.frame.DataFrame'>\n",
      "RangeIndex: 6927 entries, 0 to 6926\n",
      "Data columns (total 2 columns):\n",
      " #   Column    Non-Null Count  Dtype \n",
      "---  ------    --------------  ----- \n",
      " 0   Emotion   6927 non-null   object\n",
      " 1   Sentence  6927 non-null   object\n",
      "dtypes: object(2)\n",
      "memory usage: 108.4+ KB\n"
     ]
    }
   ],
   "source": [
    "all_df.info()"
   ]
  },
  {
   "cell_type": "code",
   "execution_count": 40,
   "metadata": {},
   "outputs": [
    {
     "data": {
      "text/html": [
       "<div>\n",
       "<style scoped>\n",
       "    .dataframe tbody tr th:only-of-type {\n",
       "        vertical-align: middle;\n",
       "    }\n",
       "\n",
       "    .dataframe tbody tr th {\n",
       "        vertical-align: top;\n",
       "    }\n",
       "\n",
       "    .dataframe thead th {\n",
       "        text-align: right;\n",
       "    }\n",
       "</style>\n",
       "<table border=\"1\" class=\"dataframe\">\n",
       "  <thead>\n",
       "    <tr style=\"text-align: right;\">\n",
       "      <th></th>\n",
       "      <th>Emotion</th>\n",
       "      <th>Sentence</th>\n",
       "    </tr>\n",
       "  </thead>\n",
       "  <tbody>\n",
       "    <tr>\n",
       "      <th>count</th>\n",
       "      <td>6927</td>\n",
       "      <td>6927</td>\n",
       "    </tr>\n",
       "    <tr>\n",
       "      <th>unique</th>\n",
       "      <td>7</td>\n",
       "      <td>6921</td>\n",
       "    </tr>\n",
       "    <tr>\n",
       "      <th>top</th>\n",
       "      <td>Enjoyment</td>\n",
       "      <td>nhìn cái bản mặt bà ta mà ghét thay . tham vô ...</td>\n",
       "    </tr>\n",
       "    <tr>\n",
       "      <th>freq</th>\n",
       "      <td>1965</td>\n",
       "      <td>2</td>\n",
       "    </tr>\n",
       "  </tbody>\n",
       "</table>\n",
       "</div>"
      ],
      "text/plain": [
       "          Emotion                                           Sentence\n",
       "count        6927                                               6927\n",
       "unique          7                                               6921\n",
       "top     Enjoyment  nhìn cái bản mặt bà ta mà ghét thay . tham vô ...\n",
       "freq         1965                                                  2"
      ]
     },
     "execution_count": 40,
     "metadata": {},
     "output_type": "execute_result"
    }
   ],
   "source": [
    "all_df.describe()"
   ]
  },
  {
   "cell_type": "code",
   "execution_count": 41,
   "metadata": {},
   "outputs": [
    {
     "data": {
      "text/plain": [
       "Emotion\n",
       "Enjoyment    1965\n",
       "Disgust      1338\n",
       "Other        1291\n",
       "Sadness      1149\n",
       "Anger         480\n",
       "Fear          395\n",
       "Surprise      309\n",
       "Name: count, dtype: int64"
      ]
     },
     "execution_count": 41,
     "metadata": {},
     "output_type": "execute_result"
    }
   ],
   "source": [
    "all_freq = all_df[\"Emotion\"].value_counts()\n",
    "all_freq"
   ]
  },
  {
   "cell_type": "code",
   "execution_count": 42,
   "metadata": {},
   "outputs": [
    {
     "data": {
      "text/plain": [
       "<Axes: xlabel='Emotion', ylabel='count'>"
      ]
     },
     "execution_count": 42,
     "metadata": {},
     "output_type": "execute_result"
    },
    {
     "data": {
      "image/png": "[encoded data removed]",
      "text/plain": [
       "<Figure size 640x480 with 1 Axes>"
      ]
     },
     "metadata": {},
     "output_type": "display_data"
    }
   ],
   "source": [
    "sns.countplot(x='Emotion', data=all_df)"
   ]
  },
  {
   "cell_type": "code",
   "execution_count": 43,
   "metadata": {},
   "outputs": [
    {
     "data": {
      "image/png": "[encoded data removed]",
      "text/plain": [
       "<Figure size 600x600 with 1 Axes>"
      ]
     },
     "metadata": {},
     "output_type": "display_data"
    }
   ],
   "source": [
    "# Màu sắc cho các phần của biểu đồ\n",
    "colors = ['green', 'red', 'gray',\"blue\",\"yellow\",\"orange\",\"purple\"]\n",
    "\n",
    "label =[\"Enjoyment\",\"Disgust\",\"Other\", \"Sadness\", \"Anger\",\"Fear\", \"Surprise\"]\n",
    "\n",
    "# Tạo biểu đồ tròn\n",
    "plt.figure(figsize=(6, 6))\n",
    "plt.pie(test_freq, labels=label, colors=colors, autopct='%1.1f%%', startangle=140)\n",
    "plt.title('Frequency of every emotion in all 3 tables')\n",
    "plt.axis('equal')  # Đảm bảo biểu đồ tròn không bị méo\n",
    "plt.show()"
   ]
  },
  {
   "cell_type": "markdown",
   "metadata": {},
   "source": [
    "# Component Analysis"
   ]
  },
  {
   "cell_type": "markdown",
   "metadata": {},
   "source": [
    "1. Enjoyment emotion"
   ]
  },
  {
   "cell_type": "code",
   "execution_count": 44,
   "metadata": {},
   "outputs": [
    {
     "data": {
      "text/html": [
       "<div>\n",
       "<style scoped>\n",
       "    .dataframe tbody tr th:only-of-type {\n",
       "        vertical-align: middle;\n",
       "    }\n",
       "\n",
       "    .dataframe tbody tr th {\n",
       "        vertical-align: top;\n",
       "    }\n",
       "\n",
       "    .dataframe thead th {\n",
       "        text-align: right;\n",
       "    }\n",
       "</style>\n",
       "<table border=\"1\" class=\"dataframe\">\n",
       "  <thead>\n",
       "    <tr style=\"text-align: right;\">\n",
       "      <th></th>\n",
       "      <th>Emotion</th>\n",
       "      <th>Sentence</th>\n",
       "    </tr>\n",
       "  </thead>\n",
       "  <tbody>\n",
       "    <tr>\n",
       "      <th>3</th>\n",
       "      <td>Enjoyment</td>\n",
       "      <td>uớc gì sau này về già vẫn có thể như cụ này :))</td>\n",
       "    </tr>\n",
       "    <tr>\n",
       "      <th>4</th>\n",
       "      <td>Enjoyment</td>\n",
       "      <td>mỗi lần có video của con là cứ coi đi coi lại ...</td>\n",
       "    </tr>\n",
       "    <tr>\n",
       "      <th>10</th>\n",
       "      <td>Enjoyment</td>\n",
       "      <td>công nhận sáng tạo thật đấy</td>\n",
       "    </tr>\n",
       "    <tr>\n",
       "      <th>13</th>\n",
       "      <td>Enjoyment</td>\n",
       "      <td>minh biết nữa ne</td>\n",
       "    </tr>\n",
       "    <tr>\n",
       "      <th>19</th>\n",
       "      <td>Enjoyment</td>\n",
       "      <td>sau em này mà làm cô giáo ngồi kể chuyện hs lạ...</td>\n",
       "    </tr>\n",
       "    <tr>\n",
       "      <th>...</th>\n",
       "      <td>...</td>\n",
       "      <td>...</td>\n",
       "    </tr>\n",
       "    <tr>\n",
       "      <th>6910</th>\n",
       "      <td>Enjoyment</td>\n",
       "      <td>per ông đó có đôi mắt đẹp ghê</td>\n",
       "    </tr>\n",
       "    <tr>\n",
       "      <th>6916</th>\n",
       "      <td>Enjoyment</td>\n",
       "      <td>còn chặt cả cây ổi của hàng xóm để lấy cái chạ...</td>\n",
       "    </tr>\n",
       "    <tr>\n",
       "      <th>6918</th>\n",
       "      <td>Enjoyment</td>\n",
       "      <td>chúng mày cứ cười . dm mai gần đấy có biến lại...</td>\n",
       "    </tr>\n",
       "    <tr>\n",
       "      <th>6920</th>\n",
       "      <td>Enjoyment</td>\n",
       "      <td>tự nhiên mình xem và mỉm cười theo .</td>\n",
       "    </tr>\n",
       "    <tr>\n",
       "      <th>6923</th>\n",
       "      <td>Enjoyment</td>\n",
       "      <td>các bác dẫn crush qua cây sữa nay mà hứng nước...</td>\n",
       "    </tr>\n",
       "  </tbody>\n",
       "</table>\n",
       "<p>1965 rows × 2 columns</p>\n",
       "</div>"
      ],
      "text/plain": [
       "        Emotion                                           Sentence\n",
       "3     Enjoyment    uớc gì sau này về già vẫn có thể như cụ này :))\n",
       "4     Enjoyment  mỗi lần có video của con là cứ coi đi coi lại ...\n",
       "10    Enjoyment                        công nhận sáng tạo thật đấy\n",
       "13    Enjoyment                                   minh biết nữa ne\n",
       "19    Enjoyment  sau em này mà làm cô giáo ngồi kể chuyện hs lạ...\n",
       "...         ...                                                ...\n",
       "6910  Enjoyment                      per ông đó có đôi mắt đẹp ghê\n",
       "6916  Enjoyment  còn chặt cả cây ổi của hàng xóm để lấy cái chạ...\n",
       "6918  Enjoyment  chúng mày cứ cười . dm mai gần đấy có biến lại...\n",
       "6920  Enjoyment               tự nhiên mình xem và mỉm cười theo .\n",
       "6923  Enjoyment  các bác dẫn crush qua cây sữa nay mà hứng nước...\n",
       "\n",
       "[1965 rows x 2 columns]"
      ]
     },
     "execution_count": 44,
     "metadata": {},
     "output_type": "execute_result"
    }
   ],
   "source": [
    "enjoyment_df = all_df[all_df[\"Emotion\"] == \"Enjoyment\"]\n",
    "enjoyment_df"
   ]
  },
  {
   "cell_type": "code",
   "execution_count": 45,
   "metadata": {},
   "outputs": [
    {
     "data": {
      "text/html": [
       "<div>\n",
       "<style scoped>\n",
       "    .dataframe tbody tr th:only-of-type {\n",
       "        vertical-align: middle;\n",
       "    }\n",
       "\n",
       "    .dataframe tbody tr th {\n",
       "        vertical-align: top;\n",
       "    }\n",
       "\n",
       "    .dataframe thead th {\n",
       "        text-align: right;\n",
       "    }\n",
       "</style>\n",
       "<table border=\"1\" class=\"dataframe\">\n",
       "  <thead>\n",
       "    <tr style=\"text-align: right;\">\n",
       "      <th></th>\n",
       "      <th>Emotion</th>\n",
       "      <th>Sentence</th>\n",
       "    </tr>\n",
       "  </thead>\n",
       "  <tbody>\n",
       "    <tr>\n",
       "      <th>count</th>\n",
       "      <td>1965</td>\n",
       "      <td>1965</td>\n",
       "    </tr>\n",
       "    <tr>\n",
       "      <th>unique</th>\n",
       "      <td>1</td>\n",
       "      <td>1965</td>\n",
       "    </tr>\n",
       "    <tr>\n",
       "      <th>top</th>\n",
       "      <td>Enjoyment</td>\n",
       "      <td>uớc gì sau này về già vẫn có thể như cụ này :))</td>\n",
       "    </tr>\n",
       "    <tr>\n",
       "      <th>freq</th>\n",
       "      <td>1965</td>\n",
       "      <td>1</td>\n",
       "    </tr>\n",
       "  </tbody>\n",
       "</table>\n",
       "</div>"
      ],
      "text/plain": [
       "          Emotion                                         Sentence\n",
       "count        1965                                             1965\n",
       "unique          1                                             1965\n",
       "top     Enjoyment  uớc gì sau này về già vẫn có thể như cụ này :))\n",
       "freq         1965                                                1"
      ]
     },
     "execution_count": 45,
     "metadata": {},
     "output_type": "execute_result"
    }
   ],
   "source": [
    "enjoyment_df.describe()"
   ]
  },
  {
   "cell_type": "code",
   "execution_count": 46,
   "metadata": {},
   "outputs": [],
   "source": [
    "def contains_emoji(text):\n",
    "    emoji_pattern = re.compile(\"[\"\n",
    "                               u\"\\U0001F600-\\U0001F64F\"  # emoticons\n",
    "                               u\"\\U0001F300-\\U0001F5FF\"  # symbols & pictographs\n",
    "                               u\"\\U0001F680-\\U0001F6FF\"  # transport & map symbols\n",
    "                               u\"\\U0001F700-\\U0001F77F\"  # alchemical symbols\n",
    "                               u\"\\U0001F780-\\U0001F7FF\"  # Geometric Shapes Extended\n",
    "                               u\"\\U0001F800-\\U0001F8FF\"  # Supplemental Arrows-C\n",
    "                               u\"\\U0001F900-\\U0001F9FF\"  # Supplemental Symbols and Pictographs\n",
    "                               u\"\\U0001FA00-\\U0001FA6F\"  # Chess Symbols\n",
    "                               u\"\\U0001FA70-\\U0001FAFF\"  # Symbols and Pictographs Extended-A\n",
    "                               u\"\\U00002702-\\U000027B0\"  # Dingbats\n",
    "                               u\"\\U000024C2-\\U0001F251\" \n",
    "                               \"]+\", flags=re.UNICODE)\n",
    "    return bool(emoji_pattern.search(text))\n"
   ]
  },
  {
   "cell_type": "code",
   "execution_count": 47,
   "metadata": {},
   "outputs": [],
   "source": [
    "# Ví dụ sử dụng hàm kiểm tra\n",
    "# text1 = \"I'm feeling so today!\"\n",
    "# text2 = \"I'm really happy about this.\"\n",
    "# text3 = \"đẹp quá v 😍😍\"\n",
    "\n",
    "# print(contains_emoji(text1))  # True\n",
    "# print(contains_emoji(text2))  # False\n",
    "# print(contains_emoji(text3))  # False"
   ]
  },
  {
   "cell_type": "code",
   "execution_count": 48,
   "metadata": {},
   "outputs": [
    {
     "name": "stdout",
     "output_type": "stream",
     "text": [
      "Số câu có chứa emoji: 484\n"
     ]
    }
   ],
   "source": [
    "# Áp dụng hàm kiểm tra vào cột \"Sentences\" trong DataFrame và đếm số câu chứa emoji\n",
    "num_sentences_with_emoji = enjoyment_df['Sentence'].apply(contains_emoji).sum()\n",
    "\n",
    "# In kết quả\n",
    "print(f\"Số câu có chứa emoji: {num_sentences_with_emoji}\")"
   ]
  },
  {
   "cell_type": "markdown",
   "metadata": {},
   "source": [
    "2. Disgust emotion"
   ]
  },
  {
   "cell_type": "code",
   "execution_count": 49,
   "metadata": {},
   "outputs": [
    {
     "data": {
      "text/html": [
       "<div>\n",
       "<style scoped>\n",
       "    .dataframe tbody tr th:only-of-type {\n",
       "        vertical-align: middle;\n",
       "    }\n",
       "\n",
       "    .dataframe tbody tr th {\n",
       "        vertical-align: top;\n",
       "    }\n",
       "\n",
       "    .dataframe thead th {\n",
       "        text-align: right;\n",
       "    }\n",
       "</style>\n",
       "<table border=\"1\" class=\"dataframe\">\n",
       "  <thead>\n",
       "    <tr style=\"text-align: right;\">\n",
       "      <th></th>\n",
       "      <th>Emotion</th>\n",
       "      <th>Sentence</th>\n",
       "    </tr>\n",
       "  </thead>\n",
       "  <tbody>\n",
       "    <tr>\n",
       "      <th>1</th>\n",
       "      <td>Disgust</td>\n",
       "      <td>cho đáng đời con quỷ . về nhà lôi con nhà mày ...</td>\n",
       "    </tr>\n",
       "    <tr>\n",
       "      <th>2</th>\n",
       "      <td>Disgust</td>\n",
       "      <td>lo học đi . yêu đương lol gì hay lại thích học...</td>\n",
       "    </tr>\n",
       "    <tr>\n",
       "      <th>11</th>\n",
       "      <td>Disgust</td>\n",
       "      <td>đòn tấn công cực gắt và cục sút của anh 😂😂😂</td>\n",
       "    </tr>\n",
       "    <tr>\n",
       "      <th>14</th>\n",
       "      <td>Disgust</td>\n",
       "      <td>mấy thằng củ lol việt nam nhảm nhí :))</td>\n",
       "    </tr>\n",
       "    <tr>\n",
       "      <th>21</th>\n",
       "      <td>Disgust</td>\n",
       "      <td>coi video chưa hiểu gì đã làm ầm lên</td>\n",
       "    </tr>\n",
       "    <tr>\n",
       "      <th>...</th>\n",
       "      <td>...</td>\n",
       "      <td>...</td>\n",
       "    </tr>\n",
       "    <tr>\n",
       "      <th>6895</th>\n",
       "      <td>Disgust</td>\n",
       "      <td>rãnh vãi , kiếm cái gì làm đi</td>\n",
       "    </tr>\n",
       "    <tr>\n",
       "      <th>6896</th>\n",
       "      <td>Disgust</td>\n",
       "      <td>per chuẩn . gọi công an cho lành . cãi cộ chẳn...</td>\n",
       "    </tr>\n",
       "    <tr>\n",
       "      <th>6900</th>\n",
       "      <td>Disgust</td>\n",
       "      <td>đụ mẹ ngu à :)) có thiếu chỗ đéo nào cho mày v...</td>\n",
       "    </tr>\n",
       "    <tr>\n",
       "      <th>6911</th>\n",
       "      <td>Disgust</td>\n",
       "      <td>có vậy ông mới có công chuyện làm mà kiếm tiền...</td>\n",
       "    </tr>\n",
       "    <tr>\n",
       "      <th>6914</th>\n",
       "      <td>Disgust</td>\n",
       "      <td>áp dụng ở việt nam cơ mà chỉ có ăn cái đầu mày .</td>\n",
       "    </tr>\n",
       "  </tbody>\n",
       "</table>\n",
       "<p>1338 rows × 2 columns</p>\n",
       "</div>"
      ],
      "text/plain": [
       "      Emotion                                           Sentence\n",
       "1     Disgust  cho đáng đời con quỷ . về nhà lôi con nhà mày ...\n",
       "2     Disgust  lo học đi . yêu đương lol gì hay lại thích học...\n",
       "11    Disgust        đòn tấn công cực gắt và cục sút của anh 😂😂😂\n",
       "14    Disgust             mấy thằng củ lol việt nam nhảm nhí :))\n",
       "21    Disgust               coi video chưa hiểu gì đã làm ầm lên\n",
       "...       ...                                                ...\n",
       "6895  Disgust                      rãnh vãi , kiếm cái gì làm đi\n",
       "6896  Disgust  per chuẩn . gọi công an cho lành . cãi cộ chẳn...\n",
       "6900  Disgust  đụ mẹ ngu à :)) có thiếu chỗ đéo nào cho mày v...\n",
       "6911  Disgust  có vậy ông mới có công chuyện làm mà kiếm tiền...\n",
       "6914  Disgust   áp dụng ở việt nam cơ mà chỉ có ăn cái đầu mày .\n",
       "\n",
       "[1338 rows x 2 columns]"
      ]
     },
     "execution_count": 49,
     "metadata": {},
     "output_type": "execute_result"
    }
   ],
   "source": [
    "disgust_df = all_df[all_df[\"Emotion\"] == \"Disgust\"]\n",
    "disgust_df"
   ]
  },
  {
   "cell_type": "code",
   "execution_count": 50,
   "metadata": {},
   "outputs": [
    {
     "data": {
      "text/html": [
       "<div>\n",
       "<style scoped>\n",
       "    .dataframe tbody tr th:only-of-type {\n",
       "        vertical-align: middle;\n",
       "    }\n",
       "\n",
       "    .dataframe tbody tr th {\n",
       "        vertical-align: top;\n",
       "    }\n",
       "\n",
       "    .dataframe thead th {\n",
       "        text-align: right;\n",
       "    }\n",
       "</style>\n",
       "<table border=\"1\" class=\"dataframe\">\n",
       "  <thead>\n",
       "    <tr style=\"text-align: right;\">\n",
       "      <th></th>\n",
       "      <th>Emotion</th>\n",
       "      <th>Sentence</th>\n",
       "    </tr>\n",
       "  </thead>\n",
       "  <tbody>\n",
       "    <tr>\n",
       "      <th>count</th>\n",
       "      <td>1338</td>\n",
       "      <td>1338</td>\n",
       "    </tr>\n",
       "    <tr>\n",
       "      <th>unique</th>\n",
       "      <td>1</td>\n",
       "      <td>1336</td>\n",
       "    </tr>\n",
       "    <tr>\n",
       "      <th>top</th>\n",
       "      <td>Disgust</td>\n",
       "      <td>nhìn cái bản mặt bà ta mà ghét thay . tham vô ...</td>\n",
       "    </tr>\n",
       "    <tr>\n",
       "      <th>freq</th>\n",
       "      <td>1338</td>\n",
       "      <td>2</td>\n",
       "    </tr>\n",
       "  </tbody>\n",
       "</table>\n",
       "</div>"
      ],
      "text/plain": [
       "        Emotion                                           Sentence\n",
       "count      1338                                               1338\n",
       "unique        1                                               1336\n",
       "top     Disgust  nhìn cái bản mặt bà ta mà ghét thay . tham vô ...\n",
       "freq       1338                                                  2"
      ]
     },
     "execution_count": 50,
     "metadata": {},
     "output_type": "execute_result"
    }
   ],
   "source": [
    "disgust_df.describe()"
   ]
  },
  {
   "cell_type": "code",
   "execution_count": 51,
   "metadata": {},
   "outputs": [
    {
     "name": "stdout",
     "output_type": "stream",
     "text": [
      "Số câu có chứa emoji: 166\n"
     ]
    }
   ],
   "source": [
    "# Áp dụng hàm kiểm tra vào cột \"Sentence\" trong DataFrame và đếm số câu chứa emoji\n",
    "num_sentences_with_emoji = disgust_df['Sentence'].apply(contains_emoji).sum()\n",
    "\n",
    "# In kết quả\n",
    "print(f\"Số câu có chứa emoji: {num_sentences_with_emoji}\")"
   ]
  },
  {
   "cell_type": "markdown",
   "metadata": {},
   "source": [
    "3. Sadness emotion"
   ]
  },
  {
   "cell_type": "code",
   "execution_count": 52,
   "metadata": {},
   "outputs": [
    {
     "data": {
      "text/html": [
       "<div>\n",
       "<style scoped>\n",
       "    .dataframe tbody tr th:only-of-type {\n",
       "        vertical-align: middle;\n",
       "    }\n",
       "\n",
       "    .dataframe tbody tr th {\n",
       "        vertical-align: top;\n",
       "    }\n",
       "\n",
       "    .dataframe thead th {\n",
       "        text-align: right;\n",
       "    }\n",
       "</style>\n",
       "<table border=\"1\" class=\"dataframe\">\n",
       "  <thead>\n",
       "    <tr style=\"text-align: right;\">\n",
       "      <th></th>\n",
       "      <th>Emotion</th>\n",
       "      <th>Sentence</th>\n",
       "    </tr>\n",
       "  </thead>\n",
       "  <tbody>\n",
       "    <tr>\n",
       "      <th>9</th>\n",
       "      <td>Sadness</td>\n",
       "      <td>per nghe đi rồi khóc 1 trận cho thoải mái . đừ...</td>\n",
       "    </tr>\n",
       "    <tr>\n",
       "      <th>15</th>\n",
       "      <td>Sadness</td>\n",
       "      <td>tui thi ́ ch va ̉ i lă ́ mày ma ̀ ăn nhỉ ̀ u n...</td>\n",
       "    </tr>\n",
       "    <tr>\n",
       "      <th>24</th>\n",
       "      <td>Sadness</td>\n",
       "      <td>mày định lướt qua rồi nhưng khi đọc bình luận ...</td>\n",
       "    </tr>\n",
       "    <tr>\n",
       "      <th>25</th>\n",
       "      <td>Sadness</td>\n",
       "      <td>xin đi chơi với bạn ngày tổng kết không cho cứ...</td>\n",
       "    </tr>\n",
       "    <tr>\n",
       "      <th>32</th>\n",
       "      <td>Sadness</td>\n",
       "      <td>hồi học lớp 5 bảo bố đi mua sgk cho , xong bố ...</td>\n",
       "    </tr>\n",
       "    <tr>\n",
       "      <th>...</th>\n",
       "      <td>...</td>\n",
       "      <td>...</td>\n",
       "    </tr>\n",
       "    <tr>\n",
       "      <th>6899</th>\n",
       "      <td>Sadness</td>\n",
       "      <td>cứu em nó với</td>\n",
       "    </tr>\n",
       "    <tr>\n",
       "      <th>6909</th>\n",
       "      <td>Sadness</td>\n",
       "      <td>giờ cắt bộ móng đi cái tay vẫn cứ bị phế khó m...</td>\n",
       "    </tr>\n",
       "    <tr>\n",
       "      <th>6913</th>\n",
       "      <td>Sadness</td>\n",
       "      <td>địt mẹ đời tao</td>\n",
       "    </tr>\n",
       "    <tr>\n",
       "      <th>6917</th>\n",
       "      <td>Sadness</td>\n",
       "      <td>chắc là uncrush thôi . bố mẹ thì còng lưng ra ...</td>\n",
       "    </tr>\n",
       "    <tr>\n",
       "      <th>6922</th>\n",
       "      <td>Sadness</td>\n",
       "      <td>lúc thì cuốc đất è cổ ra không có giun mà câu ...</td>\n",
       "    </tr>\n",
       "  </tbody>\n",
       "</table>\n",
       "<p>1149 rows × 2 columns</p>\n",
       "</div>"
      ],
      "text/plain": [
       "      Emotion                                           Sentence\n",
       "9     Sadness  per nghe đi rồi khóc 1 trận cho thoải mái . đừ...\n",
       "15    Sadness  tui thi ́ ch va ̉ i lă ́ mày ma ̀ ăn nhỉ ̀ u n...\n",
       "24    Sadness  mày định lướt qua rồi nhưng khi đọc bình luận ...\n",
       "25    Sadness  xin đi chơi với bạn ngày tổng kết không cho cứ...\n",
       "32    Sadness  hồi học lớp 5 bảo bố đi mua sgk cho , xong bố ...\n",
       "...       ...                                                ...\n",
       "6899  Sadness                                      cứu em nó với\n",
       "6909  Sadness  giờ cắt bộ móng đi cái tay vẫn cứ bị phế khó m...\n",
       "6913  Sadness                                     địt mẹ đời tao\n",
       "6917  Sadness  chắc là uncrush thôi . bố mẹ thì còng lưng ra ...\n",
       "6922  Sadness  lúc thì cuốc đất è cổ ra không có giun mà câu ...\n",
       "\n",
       "[1149 rows x 2 columns]"
      ]
     },
     "execution_count": 52,
     "metadata": {},
     "output_type": "execute_result"
    }
   ],
   "source": [
    "sadness_df = all_df[all_df[\"Emotion\"] == \"Sadness\"]\n",
    "sadness_df"
   ]
  },
  {
   "cell_type": "code",
   "execution_count": 53,
   "metadata": {},
   "outputs": [
    {
     "data": {
      "text/html": [
       "<div>\n",
       "<style scoped>\n",
       "    .dataframe tbody tr th:only-of-type {\n",
       "        vertical-align: middle;\n",
       "    }\n",
       "\n",
       "    .dataframe tbody tr th {\n",
       "        vertical-align: top;\n",
       "    }\n",
       "\n",
       "    .dataframe thead th {\n",
       "        text-align: right;\n",
       "    }\n",
       "</style>\n",
       "<table border=\"1\" class=\"dataframe\">\n",
       "  <thead>\n",
       "    <tr style=\"text-align: right;\">\n",
       "      <th></th>\n",
       "      <th>Emotion</th>\n",
       "      <th>Sentence</th>\n",
       "    </tr>\n",
       "  </thead>\n",
       "  <tbody>\n",
       "    <tr>\n",
       "      <th>count</th>\n",
       "      <td>1149</td>\n",
       "      <td>1149</td>\n",
       "    </tr>\n",
       "    <tr>\n",
       "      <th>unique</th>\n",
       "      <td>1</td>\n",
       "      <td>1149</td>\n",
       "    </tr>\n",
       "    <tr>\n",
       "      <th>top</th>\n",
       "      <td>Sadness</td>\n",
       "      <td>per nghe đi rồi khóc 1 trận cho thoải mái . đừ...</td>\n",
       "    </tr>\n",
       "    <tr>\n",
       "      <th>freq</th>\n",
       "      <td>1149</td>\n",
       "      <td>1</td>\n",
       "    </tr>\n",
       "  </tbody>\n",
       "</table>\n",
       "</div>"
      ],
      "text/plain": [
       "        Emotion                                           Sentence\n",
       "count      1149                                               1149\n",
       "unique        1                                               1149\n",
       "top     Sadness  per nghe đi rồi khóc 1 trận cho thoải mái . đừ...\n",
       "freq       1149                                                  1"
      ]
     },
     "execution_count": 53,
     "metadata": {},
     "output_type": "execute_result"
    }
   ],
   "source": [
    "sadness_df.describe()"
   ]
  },
  {
   "cell_type": "code",
   "execution_count": 54,
   "metadata": {},
   "outputs": [
    {
     "name": "stdout",
     "output_type": "stream",
     "text": [
      "Số câu có chứa emoji: 242\n"
     ]
    }
   ],
   "source": [
    "# Áp dụng hàm kiểm tra vào cột \"Sentence\" trong DataFrame và đếm số câu chứa emoji\n",
    "num_sentences_with_emoji = sadness_df['Sentence'].apply(contains_emoji).sum()\n",
    "\n",
    "# In kết quả\n",
    "print(f\"Số câu có chứa emoji: {num_sentences_with_emoji}\")"
   ]
  },
  {
   "cell_type": "markdown",
   "metadata": {},
   "source": [
    "4. Anger emotion"
   ]
  },
  {
   "cell_type": "code",
   "execution_count": 55,
   "metadata": {},
   "outputs": [
    {
     "data": {
      "text/html": [
       "<div>\n",
       "<style scoped>\n",
       "    .dataframe tbody tr th:only-of-type {\n",
       "        vertical-align: middle;\n",
       "    }\n",
       "\n",
       "    .dataframe tbody tr th {\n",
       "        vertical-align: top;\n",
       "    }\n",
       "\n",
       "    .dataframe thead th {\n",
       "        text-align: right;\n",
       "    }\n",
       "</style>\n",
       "<table border=\"1\" class=\"dataframe\">\n",
       "  <thead>\n",
       "    <tr style=\"text-align: right;\">\n",
       "      <th></th>\n",
       "      <th>Emotion</th>\n",
       "      <th>Sentence</th>\n",
       "    </tr>\n",
       "  </thead>\n",
       "  <tbody>\n",
       "    <tr>\n",
       "      <th>5</th>\n",
       "      <td>Anger</td>\n",
       "      <td>thằng kia sao mày bắt vợ với bồ tao dọn thế ki...</td>\n",
       "    </tr>\n",
       "    <tr>\n",
       "      <th>8</th>\n",
       "      <td>Anger</td>\n",
       "      <td>ko phải con mình , mà xem còn thấy đau như vậy...</td>\n",
       "    </tr>\n",
       "    <tr>\n",
       "      <th>20</th>\n",
       "      <td>Anger</td>\n",
       "      <td>con chó đăng video , mày bị ngu à mà mỗi mẩu l...</td>\n",
       "    </tr>\n",
       "    <tr>\n",
       "      <th>26</th>\n",
       "      <td>Anger</td>\n",
       "      <td>cá nhân mình nghĩ nó dừng hay đỗ đúng sai thì ...</td>\n",
       "    </tr>\n",
       "    <tr>\n",
       "      <th>40</th>\n",
       "      <td>Anger</td>\n",
       "      <td>đéo được tích sự gì 😂</td>\n",
       "    </tr>\n",
       "    <tr>\n",
       "      <th>...</th>\n",
       "      <td>...</td>\n",
       "      <td>...</td>\n",
       "    </tr>\n",
       "    <tr>\n",
       "      <th>6835</th>\n",
       "      <td>Anger</td>\n",
       "      <td>mấy thằng mặt địt . chim chưa mọc đủ lông mà l...</td>\n",
       "    </tr>\n",
       "    <tr>\n",
       "      <th>6857</th>\n",
       "      <td>Anger</td>\n",
       "      <td>mày ăn xong thì cút luôn dùm nha 🙂</td>\n",
       "    </tr>\n",
       "    <tr>\n",
       "      <th>6863</th>\n",
       "      <td>Anger</td>\n",
       "      <td>crush đéo bị thịt nhé :d nó cũng ế vãi vì tội ...</td>\n",
       "    </tr>\n",
       "    <tr>\n",
       "      <th>6887</th>\n",
       "      <td>Anger</td>\n",
       "      <td>cho thằng khác ăn ốc bắt bố đổ vỏ à 🤣</td>\n",
       "    </tr>\n",
       "    <tr>\n",
       "      <th>6907</th>\n",
       "      <td>Anger</td>\n",
       "      <td>thằng nào kiểu như này tao cho cạch mặt !!! đé...</td>\n",
       "    </tr>\n",
       "  </tbody>\n",
       "</table>\n",
       "<p>480 rows × 2 columns</p>\n",
       "</div>"
      ],
      "text/plain": [
       "     Emotion                                           Sentence\n",
       "5      Anger  thằng kia sao mày bắt vợ với bồ tao dọn thế ki...\n",
       "8      Anger  ko phải con mình , mà xem còn thấy đau như vậy...\n",
       "20     Anger  con chó đăng video , mày bị ngu à mà mỗi mẩu l...\n",
       "26     Anger  cá nhân mình nghĩ nó dừng hay đỗ đúng sai thì ...\n",
       "40     Anger                              đéo được tích sự gì 😂\n",
       "...      ...                                                ...\n",
       "6835   Anger  mấy thằng mặt địt . chim chưa mọc đủ lông mà l...\n",
       "6857   Anger                 mày ăn xong thì cút luôn dùm nha 🙂\n",
       "6863   Anger  crush đéo bị thịt nhé :d nó cũng ế vãi vì tội ...\n",
       "6887   Anger              cho thằng khác ăn ốc bắt bố đổ vỏ à 🤣\n",
       "6907   Anger  thằng nào kiểu như này tao cho cạch mặt !!! đé...\n",
       "\n",
       "[480 rows x 2 columns]"
      ]
     },
     "execution_count": 55,
     "metadata": {},
     "output_type": "execute_result"
    }
   ],
   "source": [
    "anger_df = all_df[all_df[\"Emotion\"] == \"Anger\"]\n",
    "anger_df"
   ]
  },
  {
   "cell_type": "code",
   "execution_count": 56,
   "metadata": {},
   "outputs": [
    {
     "data": {
      "text/html": [
       "<div>\n",
       "<style scoped>\n",
       "    .dataframe tbody tr th:only-of-type {\n",
       "        vertical-align: middle;\n",
       "    }\n",
       "\n",
       "    .dataframe tbody tr th {\n",
       "        vertical-align: top;\n",
       "    }\n",
       "\n",
       "    .dataframe thead th {\n",
       "        text-align: right;\n",
       "    }\n",
       "</style>\n",
       "<table border=\"1\" class=\"dataframe\">\n",
       "  <thead>\n",
       "    <tr style=\"text-align: right;\">\n",
       "      <th></th>\n",
       "      <th>Emotion</th>\n",
       "      <th>Sentence</th>\n",
       "    </tr>\n",
       "  </thead>\n",
       "  <tbody>\n",
       "    <tr>\n",
       "      <th>count</th>\n",
       "      <td>480</td>\n",
       "      <td>480</td>\n",
       "    </tr>\n",
       "    <tr>\n",
       "      <th>unique</th>\n",
       "      <td>1</td>\n",
       "      <td>480</td>\n",
       "    </tr>\n",
       "    <tr>\n",
       "      <th>top</th>\n",
       "      <td>Anger</td>\n",
       "      <td>thằng kia sao mày bắt vợ với bồ tao dọn thế ki...</td>\n",
       "    </tr>\n",
       "    <tr>\n",
       "      <th>freq</th>\n",
       "      <td>480</td>\n",
       "      <td>1</td>\n",
       "    </tr>\n",
       "  </tbody>\n",
       "</table>\n",
       "</div>"
      ],
      "text/plain": [
       "       Emotion                                           Sentence\n",
       "count      480                                                480\n",
       "unique       1                                                480\n",
       "top      Anger  thằng kia sao mày bắt vợ với bồ tao dọn thế ki...\n",
       "freq       480                                                  1"
      ]
     },
     "execution_count": 56,
     "metadata": {},
     "output_type": "execute_result"
    }
   ],
   "source": [
    "anger_df.describe()"
   ]
  },
  {
   "cell_type": "code",
   "execution_count": 57,
   "metadata": {},
   "outputs": [
    {
     "name": "stdout",
     "output_type": "stream",
     "text": [
      "Số câu có chứa emoji: 61\n"
     ]
    }
   ],
   "source": [
    "# Áp dụng hàm kiểm tra vào cột \"Sentence\" trong DataFrame và đếm số câu chứa emoji\n",
    "num_sentences_with_emoji = anger_df['Sentence'].apply(contains_emoji).sum()\n",
    "\n",
    "# In kết quả\n",
    "print(f\"Số câu có chứa emoji: {num_sentences_with_emoji}\")"
   ]
  },
  {
   "cell_type": "markdown",
   "metadata": {},
   "source": [
    "5. Fear emotion"
   ]
  },
  {
   "cell_type": "code",
   "execution_count": 58,
   "metadata": {},
   "outputs": [
    {
     "data": {
      "text/html": [
       "<div>\n",
       "<style scoped>\n",
       "    .dataframe tbody tr th:only-of-type {\n",
       "        vertical-align: middle;\n",
       "    }\n",
       "\n",
       "    .dataframe tbody tr th {\n",
       "        vertical-align: top;\n",
       "    }\n",
       "\n",
       "    .dataframe thead th {\n",
       "        text-align: right;\n",
       "    }\n",
       "</style>\n",
       "<table border=\"1\" class=\"dataframe\">\n",
       "  <thead>\n",
       "    <tr style=\"text-align: right;\">\n",
       "      <th></th>\n",
       "      <th>Emotion</th>\n",
       "      <th>Sentence</th>\n",
       "    </tr>\n",
       "  </thead>\n",
       "  <tbody>\n",
       "    <tr>\n",
       "      <th>18</th>\n",
       "      <td>Fear</td>\n",
       "      <td>thời buổi bây chừ chuyện gì cũng có thể xảy ra...</td>\n",
       "    </tr>\n",
       "    <tr>\n",
       "      <th>27</th>\n",
       "      <td>Fear</td>\n",
       "      <td>từ đầu năm giờ chắc chụp 10 lần rồi huhu sợ qu...</td>\n",
       "    </tr>\n",
       "    <tr>\n",
       "      <th>28</th>\n",
       "      <td>Fear</td>\n",
       "      <td>t gặp quả này thì bỏ xe mà chạy ??</td>\n",
       "    </tr>\n",
       "    <tr>\n",
       "      <th>31</th>\n",
       "      <td>Fear</td>\n",
       "      <td>muốn share về mà sợ bị bạn nè phẫn nộ quá</td>\n",
       "    </tr>\n",
       "    <tr>\n",
       "      <th>34</th>\n",
       "      <td>Fear</td>\n",
       "      <td>cv không áp lực , môi trường xung quanh mới dễ...</td>\n",
       "    </tr>\n",
       "    <tr>\n",
       "      <th>...</th>\n",
       "      <td>...</td>\n",
       "      <td>...</td>\n",
       "    </tr>\n",
       "    <tr>\n",
       "      <th>6862</th>\n",
       "      <td>Fear</td>\n",
       "      <td>phim kinh dị vào cái trời âm u 😒</td>\n",
       "    </tr>\n",
       "    <tr>\n",
       "      <th>6873</th>\n",
       "      <td>Fear</td>\n",
       "      <td>hôm nào đi học về cũng phải đi qa , nhà nuôi l...</td>\n",
       "    </tr>\n",
       "    <tr>\n",
       "      <th>6891</th>\n",
       "      <td>Fear</td>\n",
       "      <td>mỗi lần coi lại sởn gai ốc</td>\n",
       "    </tr>\n",
       "    <tr>\n",
       "      <th>6901</th>\n",
       "      <td>Fear</td>\n",
       "      <td>tao thì sợ nhất lúc nó mới cắt tóc</td>\n",
       "    </tr>\n",
       "    <tr>\n",
       "      <th>6903</th>\n",
       "      <td>Fear</td>\n",
       "      <td>nhìn rợn vãi</td>\n",
       "    </tr>\n",
       "  </tbody>\n",
       "</table>\n",
       "<p>395 rows × 2 columns</p>\n",
       "</div>"
      ],
      "text/plain": [
       "     Emotion                                           Sentence\n",
       "18      Fear  thời buổi bây chừ chuyện gì cũng có thể xảy ra...\n",
       "27      Fear  từ đầu năm giờ chắc chụp 10 lần rồi huhu sợ qu...\n",
       "28      Fear                 t gặp quả này thì bỏ xe mà chạy ??\n",
       "31      Fear          muốn share về mà sợ bị bạn nè phẫn nộ quá\n",
       "34      Fear  cv không áp lực , môi trường xung quanh mới dễ...\n",
       "...      ...                                                ...\n",
       "6862    Fear                   phim kinh dị vào cái trời âm u 😒\n",
       "6873    Fear  hôm nào đi học về cũng phải đi qa , nhà nuôi l...\n",
       "6891    Fear                         mỗi lần coi lại sởn gai ốc\n",
       "6901    Fear                 tao thì sợ nhất lúc nó mới cắt tóc\n",
       "6903    Fear                                       nhìn rợn vãi\n",
       "\n",
       "[395 rows x 2 columns]"
      ]
     },
     "execution_count": 58,
     "metadata": {},
     "output_type": "execute_result"
    }
   ],
   "source": [
    "fear_df = all_df[all_df[\"Emotion\"] == \"Fear\"]\n",
    "fear_df"
   ]
  },
  {
   "cell_type": "code",
   "execution_count": 59,
   "metadata": {},
   "outputs": [
    {
     "data": {
      "text/html": [
       "<div>\n",
       "<style scoped>\n",
       "    .dataframe tbody tr th:only-of-type {\n",
       "        vertical-align: middle;\n",
       "    }\n",
       "\n",
       "    .dataframe tbody tr th {\n",
       "        vertical-align: top;\n",
       "    }\n",
       "\n",
       "    .dataframe thead th {\n",
       "        text-align: right;\n",
       "    }\n",
       "</style>\n",
       "<table border=\"1\" class=\"dataframe\">\n",
       "  <thead>\n",
       "    <tr style=\"text-align: right;\">\n",
       "      <th></th>\n",
       "      <th>Emotion</th>\n",
       "      <th>Sentence</th>\n",
       "    </tr>\n",
       "  </thead>\n",
       "  <tbody>\n",
       "    <tr>\n",
       "      <th>count</th>\n",
       "      <td>395</td>\n",
       "      <td>395</td>\n",
       "    </tr>\n",
       "    <tr>\n",
       "      <th>unique</th>\n",
       "      <td>1</td>\n",
       "      <td>394</td>\n",
       "    </tr>\n",
       "    <tr>\n",
       "      <th>top</th>\n",
       "      <td>Fear</td>\n",
       "      <td>nguy hiểm lắm</td>\n",
       "    </tr>\n",
       "    <tr>\n",
       "      <th>freq</th>\n",
       "      <td>395</td>\n",
       "      <td>2</td>\n",
       "    </tr>\n",
       "  </tbody>\n",
       "</table>\n",
       "</div>"
      ],
      "text/plain": [
       "       Emotion       Sentence\n",
       "count      395            395\n",
       "unique       1            394\n",
       "top       Fear  nguy hiểm lắm\n",
       "freq       395              2"
      ]
     },
     "execution_count": 59,
     "metadata": {},
     "output_type": "execute_result"
    }
   ],
   "source": [
    "fear_df.describe()"
   ]
  },
  {
   "cell_type": "code",
   "execution_count": 60,
   "metadata": {},
   "outputs": [
    {
     "name": "stdout",
     "output_type": "stream",
     "text": [
      "Số câu có chứa emoji: 72\n"
     ]
    }
   ],
   "source": [
    "# Áp dụng hàm kiểm tra vào cột \"Sentence\" trong DataFrame và đếm số câu chứa emoji\n",
    "num_sentences_with_emoji = fear_df['Sentence'].apply(contains_emoji).sum()\n",
    "\n",
    "# In kết quả\n",
    "print(f\"Số câu có chứa emoji: {num_sentences_with_emoji}\")"
   ]
  },
  {
   "cell_type": "markdown",
   "metadata": {},
   "source": [
    "6. Surprise emotion"
   ]
  },
  {
   "cell_type": "code",
   "execution_count": 61,
   "metadata": {},
   "outputs": [
    {
     "data": {
      "text/html": [
       "<div>\n",
       "<style scoped>\n",
       "    .dataframe tbody tr th:only-of-type {\n",
       "        vertical-align: middle;\n",
       "    }\n",
       "\n",
       "    .dataframe tbody tr th {\n",
       "        vertical-align: top;\n",
       "    }\n",
       "\n",
       "    .dataframe thead th {\n",
       "        text-align: right;\n",
       "    }\n",
       "</style>\n",
       "<table border=\"1\" class=\"dataframe\">\n",
       "  <thead>\n",
       "    <tr style=\"text-align: right;\">\n",
       "      <th></th>\n",
       "      <th>Emotion</th>\n",
       "      <th>Sentence</th>\n",
       "    </tr>\n",
       "  </thead>\n",
       "  <tbody>\n",
       "    <tr>\n",
       "      <th>7</th>\n",
       "      <td>Surprise</td>\n",
       "      <td>thật hay đùa ác vậy . không thể tin được</td>\n",
       "    </tr>\n",
       "    <tr>\n",
       "      <th>30</th>\n",
       "      <td>Surprise</td>\n",
       "      <td>per đây mí chính là cụ tổ của những chiếc sừng...</td>\n",
       "    </tr>\n",
       "    <tr>\n",
       "      <th>48</th>\n",
       "      <td>Surprise</td>\n",
       "      <td>canh thời gian đăng đúng vãi !</td>\n",
       "    </tr>\n",
       "    <tr>\n",
       "      <th>70</th>\n",
       "      <td>Surprise</td>\n",
       "      <td>xem cái này mới biết vốn tiếng anh của mình cũ...</td>\n",
       "    </tr>\n",
       "    <tr>\n",
       "      <th>80</th>\n",
       "      <td>Surprise</td>\n",
       "      <td>không hiểu sao nhìu người lại thả haha nhỉ ??</td>\n",
       "    </tr>\n",
       "    <tr>\n",
       "      <th>...</th>\n",
       "      <td>...</td>\n",
       "      <td>...</td>\n",
       "    </tr>\n",
       "    <tr>\n",
       "      <th>6867</th>\n",
       "      <td>Surprise</td>\n",
       "      <td>bọn trẻ trung quốc thời nay ăn gì mà cao thế nhỉ</td>\n",
       "    </tr>\n",
       "    <tr>\n",
       "      <th>6892</th>\n",
       "      <td>Surprise</td>\n",
       "      <td>con người giỏi nhỉ .</td>\n",
       "    </tr>\n",
       "    <tr>\n",
       "      <th>6904</th>\n",
       "      <td>Surprise</td>\n",
       "      <td>đúng là ổng có vợ rồi có khác . không cần lấy ...</td>\n",
       "    </tr>\n",
       "    <tr>\n",
       "      <th>6924</th>\n",
       "      <td>Surprise</td>\n",
       "      <td>vợ chồng rồi mà trong sáng như này chỉ có tron...</td>\n",
       "    </tr>\n",
       "    <tr>\n",
       "      <th>6926</th>\n",
       "      <td>Surprise</td>\n",
       "      <td>đôi mắt đằm thắm vãi</td>\n",
       "    </tr>\n",
       "  </tbody>\n",
       "</table>\n",
       "<p>309 rows × 2 columns</p>\n",
       "</div>"
      ],
      "text/plain": [
       "       Emotion                                           Sentence\n",
       "7     Surprise           thật hay đùa ác vậy . không thể tin được\n",
       "30    Surprise  per đây mí chính là cụ tổ của những chiếc sừng...\n",
       "48    Surprise                     canh thời gian đăng đúng vãi !\n",
       "70    Surprise  xem cái này mới biết vốn tiếng anh của mình cũ...\n",
       "80    Surprise      không hiểu sao nhìu người lại thả haha nhỉ ??\n",
       "...        ...                                                ...\n",
       "6867  Surprise   bọn trẻ trung quốc thời nay ăn gì mà cao thế nhỉ\n",
       "6892  Surprise                               con người giỏi nhỉ .\n",
       "6904  Surprise  đúng là ổng có vợ rồi có khác . không cần lấy ...\n",
       "6924  Surprise  vợ chồng rồi mà trong sáng như này chỉ có tron...\n",
       "6926  Surprise                               đôi mắt đằm thắm vãi\n",
       "\n",
       "[309 rows x 2 columns]"
      ]
     },
     "execution_count": 61,
     "metadata": {},
     "output_type": "execute_result"
    }
   ],
   "source": [
    "surprise_df = all_df[all_df[\"Emotion\"] == \"Surprise\"]\n",
    "surprise_df"
   ]
  },
  {
   "cell_type": "code",
   "execution_count": 62,
   "metadata": {},
   "outputs": [
    {
     "data": {
      "text/html": [
       "<div>\n",
       "<style scoped>\n",
       "    .dataframe tbody tr th:only-of-type {\n",
       "        vertical-align: middle;\n",
       "    }\n",
       "\n",
       "    .dataframe tbody tr th {\n",
       "        vertical-align: top;\n",
       "    }\n",
       "\n",
       "    .dataframe thead th {\n",
       "        text-align: right;\n",
       "    }\n",
       "</style>\n",
       "<table border=\"1\" class=\"dataframe\">\n",
       "  <thead>\n",
       "    <tr style=\"text-align: right;\">\n",
       "      <th></th>\n",
       "      <th>Emotion</th>\n",
       "      <th>Sentence</th>\n",
       "    </tr>\n",
       "  </thead>\n",
       "  <tbody>\n",
       "    <tr>\n",
       "      <th>count</th>\n",
       "      <td>309</td>\n",
       "      <td>309</td>\n",
       "    </tr>\n",
       "    <tr>\n",
       "      <th>unique</th>\n",
       "      <td>1</td>\n",
       "      <td>308</td>\n",
       "    </tr>\n",
       "    <tr>\n",
       "      <th>top</th>\n",
       "      <td>Surprise</td>\n",
       "      <td>bài này hay quá</td>\n",
       "    </tr>\n",
       "    <tr>\n",
       "      <th>freq</th>\n",
       "      <td>309</td>\n",
       "      <td>2</td>\n",
       "    </tr>\n",
       "  </tbody>\n",
       "</table>\n",
       "</div>"
      ],
      "text/plain": [
       "         Emotion         Sentence\n",
       "count        309              309\n",
       "unique         1              308\n",
       "top     Surprise  bài này hay quá\n",
       "freq         309                2"
      ]
     },
     "execution_count": 62,
     "metadata": {},
     "output_type": "execute_result"
    }
   ],
   "source": [
    "surprise_df.describe()"
   ]
  },
  {
   "cell_type": "code",
   "execution_count": 63,
   "metadata": {},
   "outputs": [
    {
     "name": "stdout",
     "output_type": "stream",
     "text": [
      "Số câu có chứa emoji: 31\n"
     ]
    }
   ],
   "source": [
    "# Áp dụng hàm kiểm tra vào cột \"Sentence\" trong DataFrame và đếm số câu chứa emoji\n",
    "num_sentences_with_emoji = surprise_df['Sentence'].apply(contains_emoji).sum()\n",
    "\n",
    "# In kết quả\n",
    "print(f\"Số câu có chứa emoji: {num_sentences_with_emoji}\")"
   ]
  },
  {
   "cell_type": "markdown",
   "metadata": {},
   "source": [
    "7. \"Other\" emotion"
   ]
  },
  {
   "cell_type": "code",
   "execution_count": 64,
   "metadata": {},
   "outputs": [
    {
     "data": {
      "text/html": [
       "<div>\n",
       "<style scoped>\n",
       "    .dataframe tbody tr th:only-of-type {\n",
       "        vertical-align: middle;\n",
       "    }\n",
       "\n",
       "    .dataframe tbody tr th {\n",
       "        vertical-align: top;\n",
       "    }\n",
       "\n",
       "    .dataframe thead th {\n",
       "        text-align: right;\n",
       "    }\n",
       "</style>\n",
       "<table border=\"1\" class=\"dataframe\">\n",
       "  <thead>\n",
       "    <tr style=\"text-align: right;\">\n",
       "      <th></th>\n",
       "      <th>Emotion</th>\n",
       "      <th>Sentence</th>\n",
       "    </tr>\n",
       "  </thead>\n",
       "  <tbody>\n",
       "    <tr>\n",
       "      <th>0</th>\n",
       "      <td>Other</td>\n",
       "      <td>cho mình xin bài nhạc tên là gì với ạ</td>\n",
       "    </tr>\n",
       "    <tr>\n",
       "      <th>6</th>\n",
       "      <td>Other</td>\n",
       "      <td>một lí do trog muôn vàn lí do</td>\n",
       "    </tr>\n",
       "    <tr>\n",
       "      <th>12</th>\n",
       "      <td>Other</td>\n",
       "      <td>trời nắng nóng thế này mình muốn bán nước khôn...</td>\n",
       "    </tr>\n",
       "    <tr>\n",
       "      <th>16</th>\n",
       "      <td>Other</td>\n",
       "      <td>bếp dầu , nhiều nhà vẫn dùng</td>\n",
       "    </tr>\n",
       "    <tr>\n",
       "      <th>17</th>\n",
       "      <td>Other</td>\n",
       "      <td>nếu thấy phụ nữ quá phức tạp để hiểu và chinh ...</td>\n",
       "    </tr>\n",
       "    <tr>\n",
       "      <th>...</th>\n",
       "      <td>...</td>\n",
       "      <td>...</td>\n",
       "    </tr>\n",
       "    <tr>\n",
       "      <th>6912</th>\n",
       "      <td>Other</td>\n",
       "      <td>phim gì z .. thánh nữ nào cho biết cái chủ đề ...</td>\n",
       "    </tr>\n",
       "    <tr>\n",
       "      <th>6915</th>\n",
       "      <td>Other</td>\n",
       "      <td>nó cứ sai sai thế nào ấy</td>\n",
       "    </tr>\n",
       "    <tr>\n",
       "      <th>6919</th>\n",
       "      <td>Other</td>\n",
       "      <td>gửi nhầm video mình hát chế cho nó nghe</td>\n",
       "    </tr>\n",
       "    <tr>\n",
       "      <th>6921</th>\n",
       "      <td>Other</td>\n",
       "      <td>bạn ăn cơm chưa ?</td>\n",
       "    </tr>\n",
       "    <tr>\n",
       "      <th>6925</th>\n",
       "      <td>Other</td>\n",
       "      <td>bep này vào binh dương dùng xuất</td>\n",
       "    </tr>\n",
       "  </tbody>\n",
       "</table>\n",
       "<p>1291 rows × 2 columns</p>\n",
       "</div>"
      ],
      "text/plain": [
       "     Emotion                                           Sentence\n",
       "0      Other              cho mình xin bài nhạc tên là gì với ạ\n",
       "6      Other                      một lí do trog muôn vàn lí do\n",
       "12     Other  trời nắng nóng thế này mình muốn bán nước khôn...\n",
       "16     Other                       bếp dầu , nhiều nhà vẫn dùng\n",
       "17     Other  nếu thấy phụ nữ quá phức tạp để hiểu và chinh ...\n",
       "...      ...                                                ...\n",
       "6912   Other  phim gì z .. thánh nữ nào cho biết cái chủ đề ...\n",
       "6915   Other                           nó cứ sai sai thế nào ấy\n",
       "6919   Other            gửi nhầm video mình hát chế cho nó nghe\n",
       "6921   Other                                  bạn ăn cơm chưa ?\n",
       "6925   Other                   bep này vào binh dương dùng xuất\n",
       "\n",
       "[1291 rows x 2 columns]"
      ]
     },
     "execution_count": 64,
     "metadata": {},
     "output_type": "execute_result"
    }
   ],
   "source": [
    "other_df = all_df[all_df[\"Emotion\"] == \"Other\"]\n",
    "other_df"
   ]
  },
  {
   "cell_type": "code",
   "execution_count": 65,
   "metadata": {},
   "outputs": [
    {
     "data": {
      "text/html": [
       "<div>\n",
       "<style scoped>\n",
       "    .dataframe tbody tr th:only-of-type {\n",
       "        vertical-align: middle;\n",
       "    }\n",
       "\n",
       "    .dataframe tbody tr th {\n",
       "        vertical-align: top;\n",
       "    }\n",
       "\n",
       "    .dataframe thead th {\n",
       "        text-align: right;\n",
       "    }\n",
       "</style>\n",
       "<table border=\"1\" class=\"dataframe\">\n",
       "  <thead>\n",
       "    <tr style=\"text-align: right;\">\n",
       "      <th></th>\n",
       "      <th>Emotion</th>\n",
       "      <th>Sentence</th>\n",
       "    </tr>\n",
       "  </thead>\n",
       "  <tbody>\n",
       "    <tr>\n",
       "      <th>count</th>\n",
       "      <td>1291</td>\n",
       "      <td>1291</td>\n",
       "    </tr>\n",
       "    <tr>\n",
       "      <th>unique</th>\n",
       "      <td>1</td>\n",
       "      <td>1290</td>\n",
       "    </tr>\n",
       "    <tr>\n",
       "      <th>top</th>\n",
       "      <td>Other</td>\n",
       "      <td>đã năm 2000 . người ta cho mượn 200 tr rồi .. ...</td>\n",
       "    </tr>\n",
       "    <tr>\n",
       "      <th>freq</th>\n",
       "      <td>1291</td>\n",
       "      <td>2</td>\n",
       "    </tr>\n",
       "  </tbody>\n",
       "</table>\n",
       "</div>"
      ],
      "text/plain": [
       "       Emotion                                           Sentence\n",
       "count     1291                                               1291\n",
       "unique       1                                               1290\n",
       "top      Other  đã năm 2000 . người ta cho mượn 200 tr rồi .. ...\n",
       "freq      1291                                                  2"
      ]
     },
     "execution_count": 65,
     "metadata": {},
     "output_type": "execute_result"
    }
   ],
   "source": [
    "other_df.describe()"
   ]
  },
  {
   "cell_type": "code",
   "execution_count": 66,
   "metadata": {},
   "outputs": [
    {
     "name": "stdout",
     "output_type": "stream",
     "text": [
      "Số câu có chứa emoji: 147\n"
     ]
    }
   ],
   "source": [
    "# Áp dụng hàm kiểm tra vào cột \"Sentence\" trong DataFrame và đếm số câu chứa emoji\n",
    "num_sentences_with_emoji = other_df['Sentence'].apply(contains_emoji).sum()\n",
    "\n",
    "# In kết quả\n",
    "print(f\"Số câu có chứa emoji: {num_sentences_with_emoji}\")"
   ]
  },
  {
   "cell_type": "markdown",
   "metadata": {},
   "source": [
    "8. A full-emotion table"
   ]
  },
  {
   "cell_type": "code",
   "execution_count": 67,
   "metadata": {},
   "outputs": [
    {
     "data": {
      "text/html": [
       "<div>\n",
       "<style scoped>\n",
       "    .dataframe tbody tr th:only-of-type {\n",
       "        vertical-align: middle;\n",
       "    }\n",
       "\n",
       "    .dataframe tbody tr th {\n",
       "        vertical-align: top;\n",
       "    }\n",
       "\n",
       "    .dataframe thead th {\n",
       "        text-align: right;\n",
       "    }\n",
       "</style>\n",
       "<table border=\"1\" class=\"dataframe\">\n",
       "  <thead>\n",
       "    <tr style=\"text-align: right;\">\n",
       "      <th></th>\n",
       "      <th>Emotion</th>\n",
       "      <th>Sentence</th>\n",
       "    </tr>\n",
       "  </thead>\n",
       "  <tbody>\n",
       "    <tr>\n",
       "      <th>0</th>\n",
       "      <td>Other</td>\n",
       "      <td>cho mình xin bài nhạc tên là gì với ạ</td>\n",
       "    </tr>\n",
       "    <tr>\n",
       "      <th>1</th>\n",
       "      <td>Disgust</td>\n",
       "      <td>cho đáng đời con quỷ . về nhà lôi con nhà mày ...</td>\n",
       "    </tr>\n",
       "    <tr>\n",
       "      <th>2</th>\n",
       "      <td>Disgust</td>\n",
       "      <td>lo học đi . yêu đương lol gì hay lại thích học...</td>\n",
       "    </tr>\n",
       "    <tr>\n",
       "      <th>3</th>\n",
       "      <td>Enjoyment</td>\n",
       "      <td>uớc gì sau này về già vẫn có thể như cụ này :))</td>\n",
       "    </tr>\n",
       "    <tr>\n",
       "      <th>4</th>\n",
       "      <td>Enjoyment</td>\n",
       "      <td>mỗi lần có video của con là cứ coi đi coi lại ...</td>\n",
       "    </tr>\n",
       "    <tr>\n",
       "      <th>...</th>\n",
       "      <td>...</td>\n",
       "      <td>...</td>\n",
       "    </tr>\n",
       "    <tr>\n",
       "      <th>6922</th>\n",
       "      <td>Sadness</td>\n",
       "      <td>lúc thì cuốc đất è cổ ra không có giun mà câu ...</td>\n",
       "    </tr>\n",
       "    <tr>\n",
       "      <th>6923</th>\n",
       "      <td>Enjoyment</td>\n",
       "      <td>các bác dẫn crush qua cây sữa nay mà hứng nước...</td>\n",
       "    </tr>\n",
       "    <tr>\n",
       "      <th>6924</th>\n",
       "      <td>Surprise</td>\n",
       "      <td>vợ chồng rồi mà trong sáng như này chỉ có tron...</td>\n",
       "    </tr>\n",
       "    <tr>\n",
       "      <th>6925</th>\n",
       "      <td>Other</td>\n",
       "      <td>bep này vào binh dương dùng xuất</td>\n",
       "    </tr>\n",
       "    <tr>\n",
       "      <th>6926</th>\n",
       "      <td>Surprise</td>\n",
       "      <td>đôi mắt đằm thắm vãi</td>\n",
       "    </tr>\n",
       "  </tbody>\n",
       "</table>\n",
       "<p>6927 rows × 2 columns</p>\n",
       "</div>"
      ],
      "text/plain": [
       "        Emotion                                           Sentence\n",
       "0         Other              cho mình xin bài nhạc tên là gì với ạ\n",
       "1       Disgust  cho đáng đời con quỷ . về nhà lôi con nhà mày ...\n",
       "2       Disgust  lo học đi . yêu đương lol gì hay lại thích học...\n",
       "3     Enjoyment    uớc gì sau này về già vẫn có thể như cụ này :))\n",
       "4     Enjoyment  mỗi lần có video của con là cứ coi đi coi lại ...\n",
       "...         ...                                                ...\n",
       "6922    Sadness  lúc thì cuốc đất è cổ ra không có giun mà câu ...\n",
       "6923  Enjoyment  các bác dẫn crush qua cây sữa nay mà hứng nước...\n",
       "6924   Surprise  vợ chồng rồi mà trong sáng như này chỉ có tron...\n",
       "6925      Other                   bep này vào binh dương dùng xuất\n",
       "6926   Surprise                               đôi mắt đằm thắm vãi\n",
       "\n",
       "[6927 rows x 2 columns]"
      ]
     },
     "execution_count": 67,
     "metadata": {},
     "output_type": "execute_result"
    }
   ],
   "source": [
    "all_df"
   ]
  },
  {
   "cell_type": "code",
   "execution_count": 68,
   "metadata": {},
   "outputs": [
    {
     "name": "stdout",
     "output_type": "stream",
     "text": [
      "Số câu có chứa emoji: 1203\n"
     ]
    }
   ],
   "source": [
    "# Áp dụng hàm kiểm tra vào cột \"Sentence\" trong DataFrame và đếm số câu chứa emoji\n",
    "num_sentences_with_emoji = all_df['Sentence'].apply(contains_emoji).sum()\n",
    "\n",
    "# In kết quả\n",
    "print(f\"Số câu có chứa emoji: {num_sentences_with_emoji}\")"
   ]
  },
  {
   "cell_type": "markdown",
   "metadata": {},
   "source": [
    "# Data pre-processing"
   ]
  },
  {
   "cell_type": "markdown",
   "metadata": {},
   "source": [
    "\n",
    "The step and order of data preprocessing can be changed using a list (i.e [1, 3, 4, 6])\n",
    "1. Standardize words (remove all words contains numbers, punctuations, duplicated words)\n",
    "2. Convert emojis and emoticons into text (in english)\n",
    "3. Convert converted emojis and emoticons into vietnamese\n",
    "4. Fix misspelling, abbreviations \n",
    "5. Remove some particular words (just pronouns)\n",
    "6. Remove one-length words (word contains one character)"
   ]
  },
  {
   "cell_type": "markdown",
   "metadata": {},
   "source": [
    "Inform necessary lists and dictionary"
   ]
  },
  {
   "cell_type": "code",
   "execution_count": 69,
   "metadata": {},
   "outputs": [],
   "source": [
    "vnese_stop_words_list = [\n",
    "    \"ai\",\n",
    "    \"anh\",\n",
    "    \"cha\",\n",
    "    \"bố\",\n",
    "    \"bà\",\n",
    "    \"bác\",\n",
    "    \"bạn\",\n",
    "    \"tao\",\n",
    "    \"mẹ\",\n",
    "    \"con\",\n",
    "    \"mày\",\n",
    "    \"em\",\n",
    "    \"mình\",\n",
    "    \"tớ\",\n",
    "    \"tôi\",\n",
    "    \"nó\",\n",
    "    \"hắn\",\n",
    "    \"cụ\",\n",
    "    \"chú\",\n",
    "    \"cậu\",\n",
    "    \"mợ\",\n",
    "    \"dì\",\n",
    "    \"thím\",\n",
    "    \"anh\", \n",
    "    \"con\",\n",
    "    \"cháu\",\n",
    "    \"lão\",\n",
    "    \"huynh\",\n",
    "    \"đệ\"\n",
    "]"
   ]
  },
  {
   "cell_type": "code",
   "execution_count": 70,
   "metadata": {},
   "outputs": [],
   "source": [
    "emotion_dist = {\n",
    "    \"Enjoyment\": 0,\n",
    "    \"Fear\": 1,\n",
    "    \"Anger\": 2,\n",
    "    \"Sadness\": 3,\n",
    "    \"Disgust\": 4,\n",
    "    \"Surprise\": 5,\n",
    "    \"Other\": 6\n",
    "}"
   ]
  },
  {
   "cell_type": "code",
   "execution_count": 71,
   "metadata": {},
   "outputs": [],
   "source": [
    "emoticon_dist = {\n",
    "    \":)\": \":smiling_face:\",\n",
    "    \"☻\": \":smiling_face:\",\n",
    "    \"☺\": \":smiling_face:\",\n",
    "    \"=)\": \":smiling_face:\",\n",
    "    \":‑)\": \":smiling_face:\",\n",
    "    \":)\": \":smiling_face:\",\n",
    "    \":-]\": \":smiling_face:\",\n",
    "    \":]\": \":smiling_face:\",\n",
    "    \":->\": \":smiling_face:\",\n",
    "    \":>\": \":smiling_face:\",\n",
    "    \"8-)\": \":smiling_face:\",\n",
    "    \"8)\": \":smiling_face:\",\n",
    "    \":-}\": \":smiling_face:\",\n",
    "    \":}\": \":smiling_face:\",\n",
    "    \":o)\": \":smiling_face:\",\n",
    "    \":c)\": \":smiling_face:\",\n",
    "    \":^)\": \":smiling_face:\",\n",
    "    \"=]\": \":smiling_face:\",\n",
    "    \"=)\": \":smiling_face:\",\n",
    "    \":-)\": \":smiling_face:\",\n",
    "    \":(\": \":frowning_face:\",\n",
    "    \":c\": \":frowning_face\",\n",
    "    \"-.-\": \":shaming_face:\",\n",
    "    \"- _ -\": \":shaming_face:\",\n",
    "    \"xD\": \":smiling_face:\",\n",
    "    \"XD\": \":smiling_face:\",\n",
    "    \"@@\": \":surprise_face:\",\n",
    "    ':\">': \":tears_of_happiness:\",\n",
    "    \":v\": \":surprise_face:\",\n",
    "    \":V\": \":surprise_face:\",\n",
    "    \":3\": \":playful_face:\",\n",
    "    \":<\": \":frowning_face:\",\n",
    "    \">:(\": \":angry_face:\",\n",
    "    \">:[\": \":angry_face\",\n",
    "    \":'(\": \":crying_face:\",\n",
    "    \"• 3 •\": \":cute_face:\",\n",
    "    \"xd\": \":shaming_face:\",\n",
    "    \"uwu\": \":cute_face:\",\n",
    "    \"UwU\": \":cute_face:\",\n",
    "    \"owo\": \":cute_face:\",\n",
    "    \"OwO\": \":cute_face:\",\n",
    "    \"<\\3\": \":broken_heart:\",\n",
    "    \"<3\": \":heart:\"\n",
    "}"
   ]
  },
  {
   "cell_type": "code",
   "execution_count": 72,
   "metadata": {},
   "outputs": [],
   "source": [
    "emoji_vietnamese_dist = {\n",
    "    \":crying_face:\": \"khóc\",\n",
    "    \":thumbs_down:\": \"không thích\",\n",
    "    \":kissing_face_with_closed_eyes:\": \"cảm ơn\",\n",
    "    \":confounded_face:\": \"xấu hổ\",\n",
    "    \":woman_facepalming_light_skin_tone:\": \"bất lực\",\n",
    "    \":frowning_face_with_open_mouth:\": \"thất vọng\",\n",
    "    \":two_hearts:\": \"yêu\",\n",
    "    \":sad_but_relieved_face:\": \"căng thẳng\",\n",
    "    \":beaming_face_with_smiling_eyes:\": \"vui sướng\",\n",
    "    \":cloud_with_rain:\": \"mưa\",\n",
    "    \":new_moon_face:\": \"mỉa mai\",\n",
    "    \":broken_heart:\": \"buồn\",\n",
    "    \":fearful_face:\": \"sợ hãi\",\n",
    "    \":face_with_hand_over_mouth:\": \"im lặng\",\n",
    "    \":thumbs_up:\": \"thích\",\n",
    "    \":star-struck:\": \"ngưỡng mộ\",\n",
    "    \":spider_web:\": \"mạng nhện\",\n",
    "    \":angry_face:\": \"tức giận\",\n",
    "    \":weary_face:\": \"mệt mỏi\",\n",
    "    \":face_with_open_mouth:\": \"ngạc nhiên\",\n",
    "    \":neutral_face:\": \"bình thường\",\n",
    "    \":man_facepalming_light_skin_tone:\": \"bất lực\",\n",
    "    \":smiling_face_with_hearts:\": \"niềm vui\",\n",
    "    \":ghost:\": \"dễ thương\",\n",
    "    \":dog:\": \"chó\",\n",
    "    \":pile_of_poo:\": \"đống phân\",\n",
    "    \":smiling_face_with_open_hands:\": \"cởi mở\",\n",
    "    \":crying_cat:\": \"khóc\",\n",
    "    \":sleepy_face:\": \"buồn ngủ\",\n",
    "    \":expressionless_face:\": \"vô cảm\",\n",
    "    \":money-mouth_face:\": \"giàu có\",\n",
    "    \":red_heart:\": \"yêu\",\n",
    "    \":grinning_face_with_big_eyes:\": \"vui vẻ\",\n",
    "    \":face_with_monocle:\": \"tìm hiểu\",\n",
    "    \":slightly_frowning_face:\": \"buồn rầu\",\n",
    "    \":kiss_mark:\": \"hôn\",\n",
    "    \":upside-down_face:\": \"mỉa mai\",\n",
    "    \":relieved_face:\": \"nhẹ nhõm\",\n",
    "    \":clapping_hands:\": \"vỗ tay\",\n",
    "    \":frowning_face:\": \"buồn bã\",\n",
    "    \":grinning_face:\": \"rất vui\",\n",
    "    \":face_with_tears_of_joy:\": \"vui phát khóc\",\n",
    "    \":face_screaming_in_fear:\": \"sợ hãi\",\n",
    "    \":grimacing_face:\": \"lo lắng\",\n",
    "    \":persevering_face:\": \"khó chịu\",\n",
    "    \":thinking_face:\": \"đắn đo\",\n",
    "    \":beating_heart:\": \"yêu thích\",\n",
    "    \":heart_suit:\": \"tình yêu\",\n",
    "    \":rolling_on_the_floor_laughing:\": \"cưới lăn lộn\",\n",
    "    \":shushing_face:\": \"im lặng\",\n",
    "    \":woman_facepalming:\": \"bất lực\",\n",
    "    \":squinting_face_with_tongue:\": \"vui vẻ\",\n",
    "    \":woman_pouting_light_skin_tone:\": \"tức giận\",\n",
    "    \":pensive_face:\": \"trầm ngâm\",\n",
    "    \":smiling_face_with_heart-eyes:\": \"tình yêu\",\n",
    "    \":full_moon_face:\": \"chế giễu\",\n",
    "    \":enraged_face:\": \"rất tức giận\",\n",
    "    \":anxious_face_with_sweat:\": \"lo sợ\",\n",
    "    \":zany_face:\": \"hài hước\",\n",
    "    \":face_with_raised_eyebrow:\": \"nghi ngờ\",\n",
    "    \":tired_face:\": \"mệt mỏi\",\n",
    "    \":smirking_face:\": \"tinh nghịch\",\n",
    "    \":sleeping_face:\": \"buồn ngủ\",\n",
    "    \":winking_face:\": \"hài hước\",\n",
    "    \":face_with_steam_from_nose:\": \"tức giận\",\n",
    "    \":face_with_symbols_on_mouth:\": \"tức giận\",\n",
    "    \":flushed_face:\": \"xấu hổ\",\n",
    "    \":kissing_face:\": \"hôn\",\n",
    "    \":confused_face:\": \"bối rối\",\n",
    "    \":face_with_rolling_eyes:\": \"buồn chán\",\n",
    "    \":smiling_cat_with_heart-eyes:\": \"tình yêu\",\n",
    "    \":winking_face_with_tongue:\": \"hài hước\",\n",
    "    \":loudly_crying_face:\": \"khóc to\",\n",
    "    \":face_without_mouth:\": \"im lặng\",\n",
    "    \":slightly_smiling_face:\": \"cười mỉm\",\n",
    "    \":smiling_face_with_smiling_eyes:\": \"vui vẻ\",\n",
    "    \":OK_hand:\": \"được thôi\",\n",
    "    \":face_vomiting:\": \"kinh tởm\",\n",
    "    \":clapping_hands_light_skin_tone:\": \"vỗ tay\",\n",
    "    \":anguished_face:\": \"tức giận\",\n",
    "    \":cat_with_tears_of_joy:\": \"bất lực\",\n",
    "    \":nauseated_face:\": \"buồn nôn\",\n",
    "    \":hot_face:\": \"gợi cảm\",\n",
    "    \":flexed_biceps:\": \"cơ bắp\",\n",
    "    \":downcast_face_with_sweat:\": \"căng thẳng\",\n",
    "    \":disappointed_face:\": \"thất vọng\",\n",
    "    \":smiling_face_with_horns:\": \"nham hiểm\",\n",
    "    \":index_pointing_up:\": \"ngón trỏ\",\n",
    "    \":folded_hands:\": \"cảm ơn\",\n",
    "    \":smiling_face_with_sunglasses:\": \"tự tin\",\n",
    "    \":exploding_head:\": \"khó chịu\",\n",
    "    \":drooling_face:\": \"khát khao\",\n",
    "    \":grinning_face_with_smiling_eyes:\": \"vui vẻ\",\n",
    "    \":victory_hand:\": \"chiến thắng\",\n",
    "    \":sneezing_face:\": \"hắt xì\",\n",
    "    \":grinning_squinting_face:\": \"hài hước\",\n",
    "    \":grinning_face_with_sweat:\": \"khó xử\",\n",
    "    \":woman_dancing:\": \"nhảy múa\",\n",
    "    \":cherry_blossom:\": \"hoa anh đào\",\n",
    "    \":dog_face:\": \"chó\",\n",
    "    \":surprise_face:\": \"ngạc nhiên\",\n",
    "    \":shaming_face:\": \"xấu hổ\",\n",
    "    \":playful_face:\": \"vui đùa\",\n",
    "    \":tears_of_happiness:\": \"mừng sắp khóc\",\n",
    "    \":smiling_face:\": \"cười\",\n",
    "    \":face_blowing_a_kiss:\": \"yêu đương\",\n",
    "    \":unamused_face:\": \"khó chịu\",\n",
    "    \":face_with_head-bandage:\": \"đau đớn\",\n",
    "    \":face_savoring_food:\": \"thèm thuồng\",\n",
    "    \":cute_face:\": \"dễ thương\",\n",
    "    \":heart:\": \"yêu\",\n",
    "    \":broken_heart:\": \"buồn\",\n",
    "    \":love-you_gesture:\": \"mình yêu bạn\"\n",
    "}"
   ]
  },
  {
   "cell_type": "code",
   "execution_count": 73,
   "metadata": {},
   "outputs": [],
   "source": [
    "spell_correct_dist = {\n",
    "    \"zui\": \"vui\",\n",
    "    \"thw\": \"thương\",\n",
    "    \"đéo\": \"không\",\n",
    "    \"mng\": \"mọi người\",\n",
    "    \"dể\": \"dễ\",\n",
    "    \"đmm\": \"địt mẹ mày\",\n",
    "    \"duới\": \"dưới\",\n",
    "    \"đỉ\": \"đĩ\",\n",
    "    \"đuỹ\": \"đĩ\",\n",
    "    \"tuỳ\": \"tùy\",\n",
    "    \"klk\": \"haha\",\n",
    "    \"skil\": \"skill\",\n",
    "    \"trog\": \"trong\",\n",
    "    \"ko\": \"không\",\n",
    "    \"per\": \"bạn\",\n",
    "    \"trất\": \"chốt\",\n",
    "    \"hs\": \"học sinh\",\n",
    "    \"pạt\": \"phạt\",\n",
    "    \"t\": \"tao\",\n",
    "    \"sgk\": \"sách giáo khoa\",\n",
    "    \"cv\": \"công việc\",\n",
    "    \"kq\": \"kết quả\",\n",
    "    \"dzầy\": \"vậy\",\n",
    "    \"mj\": \"mặt dày\",\n",
    "    \"c\": \"chị\",\n",
    "    \"ad\": \"admin\",\n",
    "    \"ah\": \"à\",\n",
    "    \"z\": \"vậy\",\n",
    "    \"nhìu\": \"nhiều\",\n",
    "    \"cta\": \"chúng ta\",\n",
    "    \"đm\": \"địt mẹ\",\n",
    "    \"v\": \"vậy\",\n",
    "    \"ks\": \"khách sạn\",\n",
    "    \"àk\": \"à\",\n",
    "    \"k\": \"không\",\n",
    "    \"m\": \"mày\",\n",
    "    \"ngulon\": \"ngu lồn\",\n",
    "    \"vkl\": \"vãi cả lồn\",\n",
    "    \"dume\": \"đụ mẹ\",\n",
    "    \"hoà\": \"hòa\",\n",
    "    \"nyc\": \"người yêu cũ\",\n",
    "    \"nge\": \"nghe\",\n",
    "    \"zi\": \"vậy\",\n",
    "    \"chẳn\": \"chẳng\",\n",
    "    \"bos\": \"boss\",\n",
    "    \"sứng\": \"xứng\",\n",
    "    \"of\": \"của\",\n",
    "    \"kip\": \"kịp\",\n",
    "    \"g\": \"gì\",\n",
    "    \"volum\": \"volume\",\n",
    "    \"chowi\": \"chơi\",\n",
    "    \"dlm\": \"đĩ lồn má\",\n",
    "    \"ghêe\": \"ghê\",\n",
    "    \"gane\": \"game\",\n",
    "    \"fải\": \"phải\",\n",
    "    \"or\": \"hoặc\",\n",
    "    \"zời\": \"trời\",\n",
    "    \"viẹc\": \"việc\",\n",
    "    \"vler\": \"vãi lồn\",\n",
    "    \"giớ\": \"giới\",\n",
    "    \"zo\": \"vào\",\n",
    "    \"tr\": \"trước\",\n",
    "    \"nta\": \"người ta\",\n",
    "    \"thậc\": \"thật\",\n",
    "    \"lsao\": \"là sao\",\n",
    "    \"mặp\": \"mập\",\n",
    "    \"hàg\": \"hàng\",\n",
    "    \"vcb\": \"vãi cả buồi\",\n",
    "    \"tý\": \"tí\",\n",
    "    \"time\": \"thời gian\",\n",
    "    \"mink\": \"mình\",\n",
    "    \"nv\": \"nhân viên\",\n",
    "    \"thuờg\": \"thường\",\n",
    "    \"loai\": \"loại\",\n",
    "    \"dõ\": \"rõ\",\n",
    "    \"vl\": \"vãi lồn\",\n",
    "    \"thuoc\": \"thuộc\",\n",
    "    \"bat\": \"bắt\",\n",
    "    \"kiem\": \"kiếm\",\n",
    "    \"chời\": \"trời\",\n",
    "    \"shiper\": \"shipper\",\n",
    "    \"quáa\": \"quá\",\n",
    "    \"del\": \"đéo\",\n",
    "    \"dcm\": \"địt con mẹ\",\n",
    "    \"hoạ\": \"họa\",\n",
    "    \"th\": \"thằng\",\n",
    "    \"vn\": \"việt nam\",\n",
    "    \"ng\": \"người\",\n",
    "    \"phia\": \"khuya\",\n",
    "    \"lìn\": \"lồn\",\n",
    "    \"ntnay\": \"từ nay\",\n",
    "    \"cm\": \"con mẹ\",\n",
    "    \"lun\": \"luôn\",\n",
    "    \"trol\": \"troll\",\n",
    "    \"cf\": \"cafe\",\n",
    "    \"cở\": \"cởi\",\n",
    "    \"thg\": \"thằng\",\n",
    "    \"dth\": \"dễ thương\",\n",
    "    \"hjxhjx\": \"hic hic\",\n",
    "    \"ngta\": \"ngươi ta\",\n",
    "    \"hloz\": \"hãm lồn\",\n",
    "    \"ac\": \"anh chị\",\n",
    "    \"hâha\": \"haha\",\n",
    "    \"zai\": \"trai\",\n",
    "    \"đựoc\": \"được\",\n",
    "    \"híc\": \"hic\",\n",
    "    \"rhì\": \"thì\",\n",
    "    \"zay\": \"vậy\",\n",
    "    \"zoe\": \"xoe\",\n",
    "    \"záy\": \"váy\",\n",
    "    \"diển\": \"diễn\",\n",
    "    \"hlv\": \"huấn luyện viên\",\n",
    "    \"đbh\": \"không bình thường\",\n",
    "    \"tno\": \"tụi nó\",\n",
    "    \"dùm\": \"giùm\",\n",
    "    \"độg\": \"động\",\n",
    "    \"cs\": \"cuộc sống\",\n",
    "    \"hoả\": \"hỏa\",\n",
    "    \"hp\": \"hạnh phúc\",\n",
    "    \"gê\": \"ghê\",\n",
    "    \"bth\": \"bình thường\",\n",
    "    \"cẩng\": \"cẳng\",\n",
    "    \"sời\": \"giởi\",\n",
    "    \"kara\": \"karaoke\",\n",
    "    \"loz\": \"lồn\",\n",
    "    \"facebok\": \"facebook\",\n",
    "    \"mừn\": \"mình\",\n",
    "    \"rùi\": \"rồi\",\n",
    "    \"chuc\": \"chúc\",\n",
    "    \"toà\": \"tòa\",\n",
    "    \"inter\": \"internet\",\n",
    "    \"kau\": \"tao\",\n",
    "    \"dt\": \"điện thoại\",\n",
    "    \"xog\": \"xong\",\n",
    "    \"doạ\": \"dọa\",\n",
    "    \"hoc\": \"học\",\n",
    "    \"dg\": \"đang\",\n",
    "    \"dap\": \"đáp\",\n",
    "    \"rat\": \"rất\",\n",
    "    \"tuyet\": \"tuyệt\",\n",
    "    \"saolol\": \"xạo lồn\",\n",
    "    \"bn\": \"bạn\",\n",
    "    \"troét\": \"trét\",\n",
    "    \"ak\": \"à\",\n",
    "    \"đzai\": \"đẹp trai\",\n",
    "    \"iêu\": \"yêu\",\n",
    "    \"thíu\": \"thiếu\",\n",
    "    \"ukm\": \"ừm\",\n",
    "    \"rỡi\": \"rời\",\n",
    "    \"caphe\": \"cà phê\",\n",
    "    \"tn\": \"thế này\",\n",
    "    \"sg\": \"sài gòn\",\n",
    "    \"bep\": \"không\",\n",
    "    \"kbh\": \"không bình thường\",\n",
    "    \"xĩu\": \"xỉu\",\n",
    "    \"mềnh\": \"mình\",\n",
    "    \"ĩa\": \"ỉa\",\n",
    "    \"toau\": \"tao\",\n",
    "    \"íu\": \"không\",\n",
    "    \"bankon\": \"ban công\",\n",
    "    \"đag\": \"đang\",\n",
    "    \"rmit\": \"miết\",\n",
    "    \"vcd\": \"vãi cả đái\",\n",
    "    \"xh\": \"xã hội\",\n",
    "    \"đếu\": \"không\",\n",
    "    \"đỹ\": \"đĩ\",\n",
    "    \"cmt\": \"comment\",\n",
    "    \"đcm\": \"địt con mẹ\",\n",
    "    \"mịa\": \"má\",\n",
    "    \"ctay\": \"chia tay\",\n",
    "    \"tuôi\": \"tôi\",\n",
    "    \"qtrong\": \"quan trọng\",\n",
    "    \"nghr\": \"nghe\",\n",
    "    \"hoá\": \"hóa\",\n",
    "    \"ds\": \"dễ sợ\",\n",
    "    \"khoẻ\": \"khỏe\",\n",
    "    \"đg\": \"đường\",\n",
    "    \"hã\": \"hả\",\n",
    "    \"cíu\": \"cứu\",\n",
    "    \"xomg\": \"xong\",\n",
    "    \"sx\": \"sản xuất\",\n",
    "    \"hơm\": \"không\",\n",
    "    \"shits\": \"shit\",\n",
    "    \"lien\": \"liên\",\n",
    "    \"fre\": \"free\",\n",
    "    \"móe\": \"má\",\n",
    "    \"đíu\": \"không\",\n",
    "    \"hỉu\": \"hiểu\",\n",
    "    \"godbye\": \"goodbye\",\n",
    "    \"ây\": \"ấy\",\n",
    "    \"ez\": \"dễ\",\n",
    "    \"dme\": \"đụ mẹ\",\n",
    "    \"thẳg\": \"thẳng\",\n",
    "    \"ml\": \"mặt lồn\",\n",
    "    \"niếm\": \"nếm\",\n",
    "    \"xời\": \"trời\",\n",
    "    \"đame\": \"sát thương\",\n",
    "    \"nguối\": \"cúi\",\n",
    "    \"đhs\": \"không hiểu sao\",\n",
    "    \"giốg\": \"giống\",\n",
    "    \"nhưg\": \"nhưng\",\n",
    "    \"tưởg\": \"tưởng\",\n",
    "    \"toè\": \"tòe\",\n",
    "    \"tưong\": \"tương\",\n",
    "    \"sug\": \"sung\",\n",
    "    \"lám\": \"lắm\",\n",
    "    \"vẫ\": \"vẫn\",\n",
    "    \"post\": \"facebook\",\n",
    "    \"màt\": \"mày\",\n",
    "    \"xò\": \"sò\",\n",
    "    \"dma\": \"đụ má\",\n",
    "    \"gv\": \"giáo viên\",\n",
    "    \"vid\": \"video\",\n",
    "    \"doume\": \"đụ mẹ\",\n",
    "    \"qcao\": \"quảng cáo\",\n",
    "    \"hj\": \"hi\",\n",
    "    \"nghờ\": \"ngờ\",\n",
    "    \"xiền\": \"tiền\",\n",
    "    \"thạ\": \"thả\",\n",
    "    \"halo\": \"zalo\",\n",
    "    \"hoy\": \"thôi\",\n",
    "    \"cũnh\": \"cũng\",\n",
    "    \"chữi\": \"chửi\",\n",
    "    \"thiì\": \"thì\",\n",
    "    \"dm\": \"địt mẹ\",\n",
    "    \"kím\": \"kiếm\",\n",
    "    \"cũg\": \"cũng\",\n",
    "    \"ngưỡn\": \"ngưỡng\",\n",
    "    \"oy\": \"rồi\",\n",
    "    \"chj\": \"chị\",\n",
    "    \"vướn\": \"vướng\",\n",
    "    \"pê\": \"mang\",\n",
    "    \"dkm\": \"địt con mẹ\",\n",
    "    \"uoc\": \"ước\",\n",
    "    \"duoc\": \"được\",\n",
    "    \"top1\": \"top 1\",\n",
    "    \"mat\": \"mà\",\n",
    "    \"đúi\": \"đuối\",\n",
    "    \"hịt\": \"hệt\",\n",
    "    \"comt\": \"comment\",\n",
    "    \"oke\": \"ok\",\n",
    "    \"chổ\": \"chỗ\",\n",
    "    \"xãy\": \"xảy\",\n",
    "    \"nhât\": \"nhất\",\n",
    "    \"cừi\": \"cười\",\n",
    "    \"đọan\": \"đoạn\",\n",
    "    \"phảu\": \"phải\",\n",
    "    \"hix\": \"hic\",\n",
    "    \"daklak\": \"đắc lắk\",\n",
    "    \"chiêc\": \"chiếc\",\n",
    "    \"đh\": \"đại học\",\n",
    "    \"quâ\": \"quá\",\n",
    "    \"qa\": \"quá\",\n",
    "    \"đũy\": \"đĩ\",\n",
    "    \"sat\": \"sát\",\n",
    "    \"klq\": \"không liên quan\",\n",
    "    \"bằg\": \"bằng\",\n",
    "    \"nghệt\": \"nghệ\",\n",
    "    \"đki\": \"đăng kí\",\n",
    "    \"chúg\": \"chúng\",\n",
    "    \"ngổng\": \"ngỗng\",\n",
    "    \"cmnl\": \"con mẹ nó lồn\",\n",
    "    \"quad\": \"quá\",\n",
    "    \"vailon\": \"vãi lồn\",\n",
    "    \"nhg\": \"nhưng\",\n",
    "    \"truỵên\": \"truyện\",\n",
    "    \"tks\": \"cảm ơn\",\n",
    "    \"roai\": \"rồi\",\n",
    "    \"đaumoa\": \"đụ má\",\n",
    "    \"bit\": \"biết\",\n",
    "    \"ngiu\": \"người yêu\",\n",
    "    \"dv\": \"diễn viên\",\n",
    "    \"virut\": \"virus\",\n",
    "    \"7nam\": \"7 năm\",\n",
    "    \"thặc\": \"thật\",\n",
    "    \"cungz\": \"cũng\",\n",
    "    \"maiz\": \"mãi\",\n",
    "    \"lm\": \"làm\",\n",
    "    \"choét\": \"trét\",\n",
    "    \"màa\": \"mà\",\n",
    "    \"gdinh\": \"gia đình\",\n",
    "    \"stk\": \"số tài khoản\",\n",
    "    \"nhiếu\": \"nhiều\",\n",
    "    \"nhma\": \"nhưng mà\",\n",
    "    \"đển\": \"đến\",\n",
    "    \"ônc\": \"ông\",\n",
    "    \"csong\": \"cuộc sống\",\n",
    "    \"disme\": \"địt mẹ\",\n",
    "    \"ngĩ\": \"nghĩ\",\n",
    "    \"tq\": \"trung quốc\",\n",
    "    \"tữn\": \"khùng\",\n",
    "    \"xiaolon\": \"xạo lồn\",\n",
    "    \"đcđ\": \"không chịu được\",\n",
    "    \"thoả\": \"thỏa\",\n",
    "    \"csgt\": \"cảnh sát giao thông\",\n",
    "    \"xạolin\": \"xạo lồn\",\n",
    "    \"blod\": \"blood\",\n",
    "    \"kil\": \"kill\",\n",
    "    \"xiaolin\": \"xạo lồn\",\n",
    "    \"thiệc\": \"thật\",\n",
    "    \"hịn\": \"xịn\",\n",
    "    \"nãn\": \"nản\",\n",
    "    \"mịe\": \"mẹ\",\n",
    "    \"huỷ\": \"hủy\",\n",
    "    \"hiuhiu\": \"huhu\",\n",
    "    \"bt\": \"biết\",\n",
    "    \"thíck\": \"thích\",\n",
    "    \"cã\": \"cả\",\n",
    "    \"àh\": \"à\",\n",
    "    \"dis\": \"địt\",\n",
    "    \"gvien\": \"giáo viên\",\n",
    "    \"đma\": \"đụ má\",\n",
    "    \"rược\": \"rượt\",\n",
    "    \"chộm\": \"trộm\",\n",
    "    \"céc\": \"cặc\",\n",
    "    \"đkm\": \"địt con mẹ\",\n",
    "    \"cđv\": \"cổ động viên\",\n",
    "    \"cại\": \"lại\",\n",
    "    \"chậy\": \"chị\",\n",
    "    \"quí\": \"quý\",\n",
    "    \"hêtd\": \"hết\",\n",
    "    \"piza\": \"pizza\",\n",
    "    \"kv\": \"khu vực\",\n",
    "    \"hjhj\": \"hihi\",\n",
    "    \"ful\": \"full\",\n",
    "    \"hnua\": \"hôm nữa\",\n",
    "    \"sốn\": \"sống\",\n",
    "    \"bcs\": \"bao cao su\",\n",
    "    \"sag\": \"sang\",\n",
    "    \"mìh\": \"mình\",\n",
    "    \"moẹ\": \"mẹ\",\n",
    "    \"từg\": \"từng\",\n",
    "    \"ngheng\": \"nhen\",\n",
    "    \"xún\": \"xuống\",\n",
    "    \"đx\": \"được\",\n",
    "    \"mọe\": \"mẹ\",\n",
    "    \"kphai\": \"không phải\",\n",
    "    \"fr\": \"friend\",\n",
    "    \"mod\": \"mood\",\n",
    "    \"nũa\": \"nữa\",\n",
    "    \"bede\": \"bê đê\",\n",
    "    \"rồu\": \"rồi\",\n",
    "    \"helo\": \"hello\",\n",
    "    \"dống\": \"giống\",\n",
    "    \"đựu\": \"đụ\",\n",
    "    \"nguoi\": \"người\",\n",
    "    \"đoá\": \"đóa\",\n",
    "    \"ẳm\": \"ẳm\",\n",
    "    \"nghia\": \"nghĩa\",\n",
    "    \"het\": \"hết\",\n",
    "    \"liết\": \"liếc\",\n",
    "    \"hỏg\": \"hỏng\",\n",
    "    \"đep\": \"đẹp\",\n",
    "    \"sn\": \"sinh nhật\",\n",
    "    \"dòg\": \"dòng\",\n",
    "    \"mxh\": \"mạng xã hội\",\n",
    "    \"chg\": \"chẳng\",\n",
    "    \"thằg\": \"thằng\",\n",
    "    \"bổg\": \"bổng\",\n",
    "    \"karaok\": \"karaoke\",\n",
    "    \"thoy\": \"thôi\",\n",
    "    \"xl\": \"xạo lồn\",\n",
    "    \"qá\": \"quá\",\n",
    "    \"cừng\": \"cũng\",\n",
    "    \"mều\": \"mèo\",\n",
    "    \"vlon\": \"vãi lồn\",\n",
    "    \"troai\": \"trai\",\n",
    "    \"ava\": \"avatar\",\n",
    "    \"qúa\": \"quá\",\n",
    "    \"folow\": \"follow\",\n",
    "    \"thât\": \"thật\",\n",
    "    \"đuợc\": \"được\",\n",
    "    \"ngừoi\": \"người\",\n",
    "    \"càrôt\": \"cà rốt\",\n",
    "    \"kô\": \"không\",\n",
    "    \"vửa\": \"vừa\",\n",
    "    \"clm\": \"con lồn má\",\n",
    "    \"xink\": \"xinh\",\n",
    "    \"xoè\": \"xòe\",\n",
    "    \"tg\": \"thời gian\",\n",
    "    \"nhoà\": \"nhòa\",\n",
    "    \"valungtung\": \"lung tung\",\n",
    "    \"hoạng\": \"hoảng\",\n",
    "    \"đaklak\": \"đắk lắk\",\n",
    "    \"hk\": \"không\",\n",
    "    \"ỏo\": \"ồ\",\n",
    "    \"nghiêp\": \"nghiệp\",\n",
    "    \"ju\": \"giữ\",\n",
    "    \"jin\": \"gìn\",\n",
    "    \"mlz\": \"mặt lồn\",\n",
    "    \"matlon\": \"mặt lồn\",\n",
    "    \"haizx\": \"vãi\",\n",
    "    \"ny\": \"người yêu\",\n",
    "    \"cug\": \"cũng\",\n",
    "    \"gío\": \"gió\",\n",
    "    \"bđ\": \"bóng đá\",\n",
    "    \"bthg\": \"bình thường\",\n",
    "    \"vliz\": \"vãi lồn\",\n",
    "    \"đág\": \"đáng\",\n",
    "    \"ngỗg\": \"ngỗng\",\n",
    "    \"hịu\": \"hiệu\",\n",
    "    \"đúg\": \"đúng\",\n",
    "    \"rụg\": \"rụng\",\n",
    "    \"trg\": \"trường\",\n",
    "    \"vks\": \"vãi cả lồn\",\n",
    "    \"chẹ\": \"chọe\",\n",
    "    \"mis\": \"miss\",\n",
    "    \"zị\": \"vị\",\n",
    "    \"dzậy\": \"vậy\",\n",
    "    \"khôg\": \"không\",\n",
    "    \"dhs\": \"không hiểu sao\",\n",
    "    \"gvcn\": \"giáo viên chủ nhiệm\",\n",
    "    \"coá\": \"quá\",\n",
    "    \"hqua\": \"hôm qua\",\n",
    "    \"géc\": \"ghét\",\n",
    "    \"nhaỷ\": \"nhảy\",\n",
    "    \"lổi\": \"lỗi\",\n",
    "    \"thik\": \"thích\",\n",
    "    \"noá\": \"nó\",\n",
    "    \"chuân\": \"chuẩn\",\n",
    "    \"chụy\": \"chị\",\n",
    "    \"mòa\": \"mà\",\n",
    "    \"hnao\": \"hôm nào\",\n",
    "    \"galang\": \"ga lăng\",\n",
    "    \"giay\": \"giây\",\n",
    "    \"nthe\": \"như thế\",\n",
    "    \"douma\": \"đụ má\",\n",
    "    \"đẹo\": \"đẹp\",\n",
    "    \"gheê\": \"ghê\",\n",
    "    \"nuôn\": \"luôn\",\n",
    "    \"gét\": \"ghét\",\n",
    "    \"chêu\": \"trêu\",\n",
    "    \"buf\": \"buff\",\n",
    "    \"vcl\": \"vãi cả lồn\",\n",
    "    \"síu\": \"xíu\",\n",
    "    \"zồi\": \"giời\",\n",
    "    \"mừ\": \"mà\",\n",
    "    \"trym\": \"chim\",\n",
    "    \"adim\": \"admin\",\n",
    "    \"nhình\": \"nhìn\",\n",
    "    \"cofe\": \"coffee\",\n",
    "    \"loat\": \"loạt\",\n",
    "    \"hc\": \"học\",\n",
    "    \"zại\": \"dạy\",\n",
    "    \"moij\": \"mọi\",\n",
    "    \"cườ\": \"cười\",\n",
    "    \"hiếmk\": \"hiếm\",\n",
    "    \"cng\": \"con người\",\n",
    "    \"masage\": \"massage\",\n",
    "    \"ngọai\": \"ngoại\",\n",
    "    \"cđcm\": \"cái địt con mẹ\",\n",
    "    \"êi\": \"ơi\",\n",
    "    \"tml\": \"thằng mặt lồn\",\n",
    "    \"oimeoi\": \"ôi mẹ ơi\",\n",
    "    \"ron\": \"rôn\",\n",
    "    \"chyện\": \"chuyện\",\n",
    "    \"ngẵn\": \"ngắn\",\n",
    "    \"thõa\": \"xõa\",\n",
    "    \"ụa\": \"ủa\",\n",
    "    \"lôz\": \"lồn\",\n",
    "    \"truong\": \"trường\",\n",
    "    \"hop\": \"hợp\",\n",
    "    \"thuong\": \"thương\",\n",
    "    \"khac\": \"khác\",\n",
    "    \"riền\": \"riêng\",\n",
    "    \"ae\": \"anh em\",\n",
    "    \"biet\": \"biết\",\n",
    "    \"tiep\": \"tiếp\",\n",
    "    \"tnao\": \"thế nào\",\n",
    "    \"mợt\": \"mệt\",\n",
    "    \"chetme\": \"chết mẹ\",\n",
    "    \"pải\": \"phải\",\n",
    "    \"nhưnh\": \"nhưng\",\n",
    "    \"thix\": \"thích\",\n",
    "    \"gơm\": \"gớm\",\n",
    "    \"găp\": \"gặp\",\n",
    "    \"ùi\": \"rồi\",\n",
    "    \"suong\": \"sướng\",\n",
    "    \"bjt\": \"biết\",\n",
    "    \"tôgn\": \"tồn\",\n",
    "    \"củng\": \"cũng\",\n",
    "    \"oto\": \"ô tô\",\n",
    "    \"haiz\": \"thở dài\",\n",
    "    \"ẻ\": \"ỉa\",\n",
    "    \"ay\": \"này\",\n",
    "    \"ok\": \"đồng ý\",\n",
    "    \"móa\": \"má\",\n",
    "    \"moá\": \"má\",\n",
    "    \"giởi\": \"trời\",\n",
    "    \"ự\": \"hự\",\n",
    "    \"ừm\": \"ừ\",\n",
    "    \"mổi\": \"mỗi\",\n",
    "    \"haiza\": \"buồn\",\n",
    "    \"ưi\": \"ơi\",\n",
    "    \"tiển\": \"triển\",\n",
    "    \"kỉu\": \"kiểu\",\n",
    "    \"ghệ\": \"người yêu\",\n",
    "    \"col\": \"coi\",\n",
    "    \"nhãm\": \"nhảm\",\n",
    "    \"chuỵ\": \"chị\",\n",
    "    \"iem\": \"em\",\n",
    "    \"phìm\": \"phim\",\n",
    "    \"ỏ\": \"ồ\",\n",
    "    \"ẻm\": \"em ấy\",\n",
    "    \"ôtô\": \"ô tô\",\n",
    "    \"chỉa\": \"chìa\",\n",
    "    \"mớinxem\": \"mới xem\",\n",
    "    \"chs\": \"chả hiểu sao\",\n",
    "    'uớc': 'ước',\n",
    "    'fa': 'cô đơn',\n",
    "    'clgt': 'cái lồn gì thế',\n",
    "    'khùm': 'khùng',\n",
    "    'ak': 'à',\n",
    "    'đin': 'điên',\n",
    "    'mài': 'mày',\n",
    "    'xèm': 'xàm',\n",
    "    'dui': 'vui',\n",
    "    'hông': 'không',\n",
    "    'bùn': 'buồn',\n",
    "    'bít': 'biết',\n",
    "    'nma': 'nhưng mà',\n",
    "    'mún': 'muốn',\n",
    "    'bỉn': 'biển',\n",
    "    'mớ': 'mới',\n",
    "    'nhén': 'nhắn',\n",
    "    'dịt': 'việt',\n",
    "    'chít': 'chết',\n",
    "    'mịa': 'mẹ',\n",
    "    'dị': 'vậy',\n",
    "    'đel': 'không',\n",
    "    'del': 'không',\n",
    "    'nhma': 'nhưng mà',\n",
    "    'quớ': 'quá',\n",
    "    'try': 'trai',\n",
    "    'mọe': 'mẹ',\n",
    "    'zãi': 'vãi',\n",
    "    'dìa': 'về',\n",
    "    'lém': 'lắm',\n",
    "    'lừi': 'lười',\n",
    "    'cbi': 'chuẩn bị',\n",
    "    'ngèo': 'nghèo',\n",
    "    'chóa': 'chó',\n",
    "    'qué': 'quá',\n",
    "    'mún': \"muốn\",\n",
    "    'nch': 'nói chuyện',\n",
    "    'lìn': 'lồn',\n",
    "    'ik': 'đi',\n",
    "    'éo': 'không',\n",
    "    'thứk': 'thức',\n",
    "    'mịt': \"mệt\",\n",
    "    'pek': 'biết',\n",
    "    'quãi': 'vãi',\n",
    "    'hok': 'không',\n",
    "    'mey': 'may',\n",
    "    'đún': 'đúng',\n",
    "    'gùi': 'rồi',\n",
    "    'hỏ': 'hở',\n",
    "    'hum': 'hôm',\n",
    "    'm': 'mày',\n",
    "    'đc': 'được',\n",
    "    'tr': 'trời',\n",
    "    'j': 'gì',\n",
    "    'z': 'vậy',\n",
    "    'r': 'rồi',\n",
    "    'b': 'biết',\n",
    "    'h': 'giờ',\n",
    "    'k': 'không',\n",
    "    'l': \"lồn\"\n",
    "}"
   ]
  },
  {
   "cell_type": "markdown",
   "metadata": {},
   "source": [
    "1. Standardize words (remove all words contains numbers, punctuations, duplicated words)"
   ]
  },
  {
   "cell_type": "code",
   "execution_count": 74,
   "metadata": {},
   "outputs": [],
   "source": [
    "punctuation = r\"\"\"!\"#$%&'()*+,-./:;<=>?@[\\]^_`{|}~₫\"\"\"\n",
    "punc_set = set(punctuation)"
   ]
  },
  {
   "cell_type": "code",
   "execution_count": 75,
   "metadata": {},
   "outputs": [],
   "source": [
    "def standardize_words(sentenceList):\n",
    "        # Remove all numbers contain words\n",
    "        standardize_words = [\n",
    "            \" \".join(\n",
    "                [\n",
    "                    word.lower()\n",
    "                    for word in str(sentence).split()\n",
    "                    if not any(char.isdigit() for char in word)\n",
    "                ]\n",
    "            )\n",
    "            for sentence in sentenceList\n",
    "        ]\n",
    "\n",
    "        # Remove all duplicated characters (besides emojis)\n",
    "        remove_duplicated = [\n",
    "            \" \".join(\n",
    "                [\n",
    "                    re.sub(r\"(.)\\1+\", r\"\\1\", word)\n",
    "                    if emoji.emoji_count(word) == 0\n",
    "                    else word\n",
    "                    for word in sentence.split()\n",
    "                ]\n",
    "            )\n",
    "            for sentence in standardize_words\n",
    "        ]\n",
    "\n",
    "        remove_punctuation = []\n",
    "\n",
    "        # Remove all punctuation symbols using the puctuation set\n",
    "        for sentence in remove_duplicated:\n",
    "            sentence_placeholder = sentence.split()\n",
    "            words_list = []\n",
    "\n",
    "            for word in sentence_placeholder:\n",
    "                if punc_set.isdisjoint(word):\n",
    "                    words_list.append(word)\n",
    "                elif word in emoticon_dist:\n",
    "                    words_list.append(word)\n",
    "\n",
    "            remove_punctuation.append(\" \".join(words_list))\n",
    "\n",
    "        return remove_punctuation"
   ]
  },
  {
   "cell_type": "code",
   "execution_count": 76,
   "metadata": {},
   "outputs": [],
   "source": [
    "remove_punctuation = train_df[\"Sentence\"].apply(lambda x: standardize_words(x))"
   ]
  },
  {
   "cell_type": "code",
   "execution_count": 77,
   "metadata": {},
   "outputs": [
    {
     "data": {
      "text/plain": [
       "0       [c, h, o, , m, ì, n, h, , x, i, n, , b, à, i, ...\n",
       "1       [c, h, o, , đ, á, n, g, , đ, ờ, i, , c, o, n, ...\n",
       "2       [l, o, , h, ọ, c, , đ, i, , , , y, ê, u, , đ, ...\n",
       "3       [u, ớ, c, , g, ì, , s, a, u, , n, à, y, , v, ề...\n",
       "4       [m, ỗ, i, , l, ầ, n, , c, ó, , v, i, d, e, o, ...\n",
       "                              ...                        \n",
       "5543    [đ, ư, ờ, n, g, , c, ủ, a, , n, h, à, , c, ụ, ...\n",
       "5544    [n, h, ì, n, , m, ặ, t, , h, é, o, , q, u, e, ...\n",
       "5545    [t, a, o, , đ, i, , x, e, , m, á, y, , m, ỗ, i...\n",
       "5546    [t, h, í, c, h, , t, h, â, n, , h, ì, n, h, , ...\n",
       "5547    [ư, ớ, c, , m, ơ, , n, h, ỏ, , n, h, o, i, , c...\n",
       "Name: Sentence, Length: 5548, dtype: object"
      ]
     },
     "execution_count": 77,
     "metadata": {},
     "output_type": "execute_result"
    }
   ],
   "source": [
    "remove_punctuation"
   ]
  },
  {
   "cell_type": "code",
   "execution_count": 78,
   "metadata": {},
   "outputs": [],
   "source": [
    "remove_punctuation_1 = val_df[\"Sentence\"].apply(lambda x: standardize_words(x))"
   ]
  },
  {
   "cell_type": "code",
   "execution_count": 79,
   "metadata": {},
   "outputs": [
    {
     "data": {
      "text/plain": [
       "0      [t, í, n, h, , t, a, o, , t, a, o, , b, i, ế, ...\n",
       "1      [l, ạ, i, , l, à, , l, à, o, , c, a, i, , , , ...\n",
       "2                [b, ị, , t, ừ, , c, h, ố, i, , r, ồ, i]\n",
       "3      [t, a, m, , đ, ả, o, , t, r, ờ, i, , đ, ẹ, p, ...\n",
       "4      [đ, ọ, c, , b, ì, n, h, , l, u, ậ, n, , c, ủ, ...\n",
       "                             ...                        \n",
       "681                 [n, h, ọ, c, , l, ò, n, g, , , , , ]\n",
       "682    [t, a, o, , đ, ã, , r, ấ, t, , m, u, ố, n, , l...\n",
       "683    [c, ơ, m, , t, ấ, m, , ở, , n, g, o, à, i, , c...\n",
       "684    [c, h, ấ, t, , l, i, ệ, u, , đ, ỉ, n, h, , q, ...\n",
       "685    [d, u, m, e, , l, ũ, , m, ấ, t, , d, ạ, y, , ,...\n",
       "Name: Sentence, Length: 686, dtype: object"
      ]
     },
     "execution_count": 79,
     "metadata": {},
     "output_type": "execute_result"
    }
   ],
   "source": [
    "remove_punctuation_1"
   ]
  },
  {
   "cell_type": "code",
   "execution_count": 80,
   "metadata": {},
   "outputs": [],
   "source": [
    "remove_punctuation_2 = test_df[\"Sentence\"] = test_df[\"Sentence\"].apply(lambda x: standardize_words(x))"
   ]
  },
  {
   "cell_type": "code",
   "execution_count": 81,
   "metadata": {},
   "outputs": [
    {
     "data": {
      "text/plain": [
       "0      [n, g, ư, ờ, i, , t, a, , c, ó, , b, ạ, n, , b...\n",
       "1      [c, h, o, , n, g, h, ỉ, , v, i, ê, c, , m, ó, ...\n",
       "2                           [k, i, n, h, , v, ã, i, , 😡]\n",
       "3      [n, h, à, , t, h, ì, , k, h, ô, n, g, , x, a, ...\n",
       "4      [b, ố, , k, h, ô, n, g, , t, h, í, c, h, , n, ...\n",
       "                             ...                        \n",
       "688    [l, ú, c, , t, h, ì, , c, u, ố, c, , đ, ấ, t, ...\n",
       "689    [c, á, c, , b, á, c, , d, ẫ, n, , c, r, u, s, ...\n",
       "690    [v, ợ, , c, h, ồ, n, g, , r, ồ, i, , m, à, , t...\n",
       "691    [b, e, p, , n, à, y, , v, à, o, , b, i, n, h, ...\n",
       "692    [đ, ô, i, , m, ắ, t, , đ, ằ, m, , t, h, ắ, m, ...\n",
       "Name: Sentence, Length: 693, dtype: object"
      ]
     },
     "execution_count": 81,
     "metadata": {},
     "output_type": "execute_result"
    }
   ],
   "source": [
    "remove_punctuation_2"
   ]
  },
  {
   "cell_type": "markdown",
   "metadata": {},
   "source": [
    "2. Convert emojis and emoticons into text (in english)"
   ]
  },
  {
   "cell_type": "code",
   "execution_count": 82,
   "metadata": {},
   "outputs": [],
   "source": [
    "def emoji_to_text(sentenceList):\n",
    "        # Using the emoji library to convert all emojis into text\n",
    "        sentence_emo_to_text = [\n",
    "            emoji.demojize(sentence, delimiters=(\":\", \": \"))\n",
    "            for sentence in sentenceList\n",
    "        ]\n",
    "        sentence_emoticon_to_text = [\n",
    "            \" \".join(\n",
    "                [\n",
    "                    word if word not in emoticon_dist else f\"{emoticon_dist[word]}\"\n",
    "                    for word in sentence.split()\n",
    "                ]\n",
    "            )\n",
    "            for sentence in sentence_emo_to_text\n",
    "        ]\n",
    "\n",
    "        return sentence_emoticon_to_text"
   ]
  },
  {
   "cell_type": "code",
   "execution_count": 83,
   "metadata": {},
   "outputs": [],
   "source": [
    "method_2_1 = train_df[\"Sentence\"].apply(lambda x: emoji_to_text(x))"
   ]
  },
  {
   "cell_type": "code",
   "execution_count": 84,
   "metadata": {},
   "outputs": [
    {
     "data": {
      "text/plain": [
       "0       [c, h, o, , m, ì, n, h, , x, i, n, , b, à, i, ...\n",
       "1       [c, h, o, , đ, á, n, g, , đ, ờ, i, , c, o, n, ...\n",
       "2       [l, o, , h, ọ, c, , đ, i, , ., , y, ê, u, , đ,...\n",
       "3       [u, ớ, c, , g, ì, , s, a, u, , n, à, y, , v, ề...\n",
       "4       [m, ỗ, i, , l, ầ, n, , c, ó, , v, i, d, e, o, ...\n",
       "                              ...                        \n",
       "5543    [đ, ư, ờ, n, g, , c, ủ, a, , n, h, à, , c, ụ, ...\n",
       "5544    [n, h, ì, n, , m, ặ, t, , h, é, o, , q, u, e, ...\n",
       "5545    [t, a, o, , đ, i, , x, e, , m, á, y, , m, ỗ, i...\n",
       "5546    [t, h, í, c, h, , t, h, â, n, , h, ì, n, h, , ...\n",
       "5547    [ư, ớ, c, , m, ơ, , n, h, ỏ, , n, h, o, i, , c...\n",
       "Name: Sentence, Length: 5548, dtype: object"
      ]
     },
     "execution_count": 84,
     "metadata": {},
     "output_type": "execute_result"
    }
   ],
   "source": [
    "method_2_1"
   ]
  },
  {
   "cell_type": "code",
   "execution_count": 85,
   "metadata": {},
   "outputs": [],
   "source": [
    "method_2_2 = val_df[\"Sentence\"].apply(lambda x: emoji_to_text(x))"
   ]
  },
  {
   "cell_type": "code",
   "execution_count": 86,
   "metadata": {},
   "outputs": [
    {
     "data": {
      "text/plain": [
       "0      [t, í, n, h, , t, a, o, , t, a, o, , b, i, ế, ...\n",
       "1      [l, ạ, i, , l, à, , l, à, o, , c, a, i, , ,, ,...\n",
       "2                [b, ị, , t, ừ, , c, h, ố, i, , r, ồ, i]\n",
       "3      [t, a, m, , đ, ả, o, , t, r, ờ, i, , đ, ẹ, p, ...\n",
       "4      [đ, ọ, c, , b, ì, n, h, , l, u, ậ, n, , c, ủ, ...\n",
       "                             ...                        \n",
       "681             [n, h, ọ, c, , l, ò, n, g, , :, (, (, (]\n",
       "682    [t, a, o, , đ, ã, , r, ấ, t, , m, u, ố, n, , l...\n",
       "683    [c, ơ, m, , t, ấ, m, , ở, , n, g, o, à, i, , c...\n",
       "684    [c, h, ấ, t, , l, i, ệ, u, , đ, ỉ, n, h, , q, ...\n",
       "685    [d, u, m, e, , l, ũ, , m, ấ, t, , d, ạ, y, , ....\n",
       "Name: Sentence, Length: 686, dtype: object"
      ]
     },
     "execution_count": 86,
     "metadata": {},
     "output_type": "execute_result"
    }
   ],
   "source": [
    "method_2_2"
   ]
  },
  {
   "cell_type": "code",
   "execution_count": 87,
   "metadata": {},
   "outputs": [],
   "source": [
    "method_2_3 = test_df[\"Sentence\"].apply(lambda x: emoji_to_text(x))"
   ]
  },
  {
   "cell_type": "code",
   "execution_count": 88,
   "metadata": {},
   "outputs": [
    {
     "data": {
      "text/plain": [
       "0      [t, í, n, h, , t, a, o, , t, a, o, , b, i, ế, ...\n",
       "1      [l, ạ, i, , l, à, , l, à, o, , c, a, i, , ,, ,...\n",
       "2                [b, ị, , t, ừ, , c, h, ố, i, , r, ồ, i]\n",
       "3      [t, a, m, , đ, ả, o, , t, r, ờ, i, , đ, ẹ, p, ...\n",
       "4      [đ, ọ, c, , b, ì, n, h, , l, u, ậ, n, , c, ủ, ...\n",
       "                             ...                        \n",
       "681             [n, h, ọ, c, , l, ò, n, g, , :, (, (, (]\n",
       "682    [t, a, o, , đ, ã, , r, ấ, t, , m, u, ố, n, , l...\n",
       "683    [c, ơ, m, , t, ấ, m, , ở, , n, g, o, à, i, , c...\n",
       "684    [c, h, ấ, t, , l, i, ệ, u, , đ, ỉ, n, h, , q, ...\n",
       "685    [d, u, m, e, , l, ũ, , m, ấ, t, , d, ạ, y, , ....\n",
       "Name: Sentence, Length: 686, dtype: object"
      ]
     },
     "execution_count": 88,
     "metadata": {},
     "output_type": "execute_result"
    }
   ],
   "source": [
    "method_2_2"
   ]
  },
  {
   "cell_type": "markdown",
   "metadata": {},
   "source": [
    "3. Convert converted emojis and emoticons into vietnamese"
   ]
  },
  {
   "cell_type": "code",
   "execution_count": 89,
   "metadata": {},
   "outputs": [],
   "source": [
    "def emoji_text_to_vietnamese(sentenceList):\n",
    "        # Using a handmade dictionary to convert all emoji texts into vietnamese\n",
    "        sentence_emoji_to_vnese = [\n",
    "            \" \".join(\n",
    "                [\n",
    "                    word\n",
    "                    if word not in emoji_vietnamese_dist\n",
    "                    else emoji_vietnamese_dist[word]\n",
    "                    for word in sentence.split()\n",
    "                ]\n",
    "            )\n",
    "            for sentence in sentenceList\n",
    "        ]\n",
    "\n",
    "        return sentence_emoji_to_vnese"
   ]
  },
  {
   "cell_type": "code",
   "execution_count": 90,
   "metadata": {},
   "outputs": [],
   "source": [
    "method_3_1 = train_df[\"Sentence\"].apply(lambda x: emoji_text_to_vietnamese(x))"
   ]
  },
  {
   "cell_type": "code",
   "execution_count": 91,
   "metadata": {},
   "outputs": [
    {
     "data": {
      "text/plain": [
       "0       [c, h, o, , m, ì, n, h, , x, i, n, , b, à, i, ...\n",
       "1       [c, h, o, , đ, á, n, g, , đ, ờ, i, , c, o, n, ...\n",
       "2       [l, o, , h, ọ, c, , đ, i, , ., , y, ê, u, , đ,...\n",
       "3       [u, ớ, c, , g, ì, , s, a, u, , n, à, y, , v, ề...\n",
       "4       [m, ỗ, i, , l, ầ, n, , c, ó, , v, i, d, e, o, ...\n",
       "                              ...                        \n",
       "5543    [đ, ư, ờ, n, g, , c, ủ, a, , n, h, à, , c, ụ, ...\n",
       "5544    [n, h, ì, n, , m, ặ, t, , h, é, o, , q, u, e, ...\n",
       "5545    [t, a, o, , đ, i, , x, e, , m, á, y, , m, ỗ, i...\n",
       "5546    [t, h, í, c, h, , t, h, â, n, , h, ì, n, h, , ...\n",
       "5547    [ư, ớ, c, , m, ơ, , n, h, ỏ, , n, h, o, i, , c...\n",
       "Name: Sentence, Length: 5548, dtype: object"
      ]
     },
     "execution_count": 91,
     "metadata": {},
     "output_type": "execute_result"
    }
   ],
   "source": [
    "method_3_1"
   ]
  },
  {
   "cell_type": "code",
   "execution_count": 92,
   "metadata": {},
   "outputs": [],
   "source": [
    "method_3_2 = val_df[\"Sentence\"].apply(lambda x: emoji_text_to_vietnamese(x))"
   ]
  },
  {
   "cell_type": "code",
   "execution_count": 93,
   "metadata": {},
   "outputs": [
    {
     "data": {
      "text/plain": [
       "0      [t, í, n, h, , t, a, o, , t, a, o, , b, i, ế, ...\n",
       "1      [l, ạ, i, , l, à, , l, à, o, , c, a, i, , ,, ,...\n",
       "2                [b, ị, , t, ừ, , c, h, ố, i, , r, ồ, i]\n",
       "3      [t, a, m, , đ, ả, o, , t, r, ờ, i, , đ, ẹ, p, ...\n",
       "4      [đ, ọ, c, , b, ì, n, h, , l, u, ậ, n, , c, ủ, ...\n",
       "                             ...                        \n",
       "681             [n, h, ọ, c, , l, ò, n, g, , :, (, (, (]\n",
       "682    [t, a, o, , đ, ã, , r, ấ, t, , m, u, ố, n, , l...\n",
       "683    [c, ơ, m, , t, ấ, m, , ở, , n, g, o, à, i, , c...\n",
       "684    [c, h, ấ, t, , l, i, ệ, u, , đ, ỉ, n, h, , q, ...\n",
       "685    [d, u, m, e, , l, ũ, , m, ấ, t, , d, ạ, y, , ....\n",
       "Name: Sentence, Length: 686, dtype: object"
      ]
     },
     "execution_count": 93,
     "metadata": {},
     "output_type": "execute_result"
    }
   ],
   "source": [
    "method_3_2"
   ]
  },
  {
   "cell_type": "code",
   "execution_count": 94,
   "metadata": {},
   "outputs": [],
   "source": [
    "method_3_3 = test_df[\"Sentence\"].apply(lambda x: emoji_text_to_vietnamese(x))"
   ]
  },
  {
   "cell_type": "code",
   "execution_count": 95,
   "metadata": {},
   "outputs": [
    {
     "data": {
      "text/plain": [
       "0      [n, g, ư, ờ, i, , t, a, , c, ó, , b, ạ, n, , b...\n",
       "1      [c, h, o, , n, g, h, ỉ, , v, i, ê, c, , m, ó, ...\n",
       "2                           [k, i, n, h, , v, ã, i, , 😡]\n",
       "3      [n, h, à, , t, h, ì, , k, h, ô, n, g, , x, a, ...\n",
       "4      [b, ố, , k, h, ô, n, g, , t, h, í, c, h, , n, ...\n",
       "                             ...                        \n",
       "688    [l, ú, c, , t, h, ì, , c, u, ố, c, , đ, ấ, t, ...\n",
       "689    [c, á, c, , b, á, c, , d, ẫ, n, , c, r, u, s, ...\n",
       "690    [v, ợ, , c, h, ồ, n, g, , r, ồ, i, , m, à, , t...\n",
       "691    [b, e, p, , n, à, y, , v, à, o, , b, i, n, h, ...\n",
       "692    [đ, ô, i, , m, ắ, t, , đ, ằ, m, , t, h, ắ, m, ...\n",
       "Name: Sentence, Length: 693, dtype: object"
      ]
     },
     "execution_count": 95,
     "metadata": {},
     "output_type": "execute_result"
    }
   ],
   "source": [
    "method_3_3"
   ]
  },
  {
   "cell_type": "markdown",
   "metadata": {},
   "source": [
    "4. Fix misspelling, abbreviations "
   ]
  },
  {
   "cell_type": "code",
   "execution_count": 96,
   "metadata": {},
   "outputs": [],
   "source": [
    "def spelling_check(sentenceList):\n",
    "        # Using a handmade dictionary to check words and correct them\n",
    "        spelling_fix = [\n",
    "            \" \".join(\n",
    "                [\n",
    "                    word if word not in spell_correct_dist else spell_correct_dist[word]\n",
    "                    for word in sentence.split()\n",
    "                ]\n",
    "            )\n",
    "            for sentence in sentenceList\n",
    "        ]\n",
    "\n",
    "        return spelling_fix"
   ]
  },
  {
   "cell_type": "code",
   "execution_count": 97,
   "metadata": {},
   "outputs": [
    {
     "data": {
      "text/plain": [
       "0       [chị, giờ, o, , mày, ì, n, giờ, , x, i, n, , b...\n",
       "1       [chị, giờ, o, , đ, á, n, gì, , đ, ờ, i, , chị,...\n",
       "2       [lồn, o, , giờ, ọ, chị, , đ, i, , ., , y, ê, u...\n",
       "3       [u, ớ, chị, , gì, ì, , s, a, u, , n, à, y, , v...\n",
       "4       [mày, ỗ, i, , lồn, ầ, n, , chị, ó, , vậy, i, d...\n",
       "                              ...                        \n",
       "5543    [đ, ư, ờ, n, gì, , chị, ủ, a, , n, giờ, à, , c...\n",
       "5544    [n, giờ, ì, n, , mày, ặ, tao, , giờ, é, o, , q...\n",
       "5545    [tao, a, o, , đ, i, , x, e, , mày, á, y, , mày...\n",
       "5546    [tao, giờ, í, chị, giờ, , tao, giờ, â, n, , gi...\n",
       "5547    [ư, ớ, chị, , mày, ơ, , n, giờ, ồ, , n, giờ, o...\n",
       "Name: Sentence, Length: 5548, dtype: object"
      ]
     },
     "execution_count": 97,
     "metadata": {},
     "output_type": "execute_result"
    }
   ],
   "source": [
    "method_4_1 = train_df[\"Sentence\"].apply(lambda x: spelling_check(x))\n",
    "method_4_1"
   ]
  },
  {
   "cell_type": "code",
   "execution_count": 98,
   "metadata": {},
   "outputs": [
    {
     "data": {
      "text/plain": [
       "0      [tao, í, n, giờ, , tao, a, o, , tao, a, o, , b...\n",
       "1      [lồn, ạ, i, , lồn, à, , lồn, à, o, , chị, a, i...\n",
       "2      [biết, ị, , tao, ừ, , chị, giờ, ố, i, , rồi, ồ...\n",
       "3      [tao, a, mày, , đ, ả, o, , tao, rồi, ờ, i, , đ...\n",
       "4      [đ, ọ, chị, , biết, ì, n, giờ, , lồn, u, ậ, n,...\n",
       "                             ...                        \n",
       "681      [n, giờ, ọ, chị, , lồn, ò, n, gì, , :, (, (, (]\n",
       "682    [tao, a, o, , đ, ã, , rồi, ấ, tao, , mày, u, ố...\n",
       "683    [chị, ơ, mày, , tao, ấ, mày, , ở, , n, gì, o, ...\n",
       "684    [chị, giờ, ấ, tao, , lồn, i, ệ, u, , đ, ỉ, n, ...\n",
       "685    [d, u, mày, e, , lồn, ũ, , mày, ấ, tao, , d, ạ...\n",
       "Name: Sentence, Length: 686, dtype: object"
      ]
     },
     "execution_count": 98,
     "metadata": {},
     "output_type": "execute_result"
    }
   ],
   "source": [
    "method_4_2 = val_df[\"Sentence\"].apply(lambda x: spelling_check(x))\n",
    "method_4_2"
   ]
  },
  {
   "cell_type": "code",
   "execution_count": 99,
   "metadata": {},
   "outputs": [
    {
     "data": {
      "text/plain": [
       "0      [n, gì, ư, ờ, i, , tao, a, , chị, ó, , biết, ạ...\n",
       "1      [chị, giờ, o, , n, gì, giờ, ỉ, , vậy, i, ê, ch...\n",
       "2                   [không, i, n, giờ, , vậy, ã, i, , 😡]\n",
       "3      [n, giờ, à, , tao, giờ, ì, , không, giờ, ô, n,...\n",
       "4      [biết, ố, , không, giờ, ô, n, gì, , tao, giờ, ...\n",
       "                             ...                        \n",
       "688    [lồn, ú, chị, , tao, giờ, ì, , chị, u, ố, chị,...\n",
       "689    [chị, á, chị, , biết, á, chị, , d, ẫ, n, , chị...\n",
       "690    [vậy, ợ, , chị, giờ, ồ, n, gì, , rồi, ồ, i, , ...\n",
       "691    [biết, e, p, , n, à, y, , vậy, à, o, , biết, i...\n",
       "692    [đ, ô, i, , mày, ắ, tao, , đ, ằ, mày, , tao, g...\n",
       "Name: Sentence, Length: 693, dtype: object"
      ]
     },
     "execution_count": 99,
     "metadata": {},
     "output_type": "execute_result"
    }
   ],
   "source": [
    "method_4_3 = test_df[\"Sentence\"].apply(lambda x: spelling_check(x))\n",
    "method_4_3"
   ]
  },
  {
   "cell_type": "markdown",
   "metadata": {},
   "source": [
    "5. Remove some particular words (just pronouns)"
   ]
  },
  {
   "cell_type": "code",
   "execution_count": 100,
   "metadata": {},
   "outputs": [],
   "source": [
    "def stop_word_removal(sentenceList):\n",
    "        # Using a premade dictionary to remove all stop words\n",
    "        remove_stop_word = [\n",
    "            \" \".join(\n",
    "                [word for word in sentence.split() if word not in vnese_stop_words_list]\n",
    "            )\n",
    "            for sentence in sentenceList\n",
    "        ]\n",
    "\n",
    "        return remove_stop_word"
   ]
  },
  {
   "cell_type": "code",
   "execution_count": 101,
   "metadata": {},
   "outputs": [
    {
     "data": {
      "text/plain": [
       "0       [c, h, o, , m, ì, n, h, , x, i, n, , b, à, i, ...\n",
       "1       [c, h, o, , đ, á, n, g, , đ, ờ, i, , c, o, n, ...\n",
       "2       [l, o, , h, ọ, c, , đ, i, , ., , y, ê, u, , đ,...\n",
       "3       [u, ớ, c, , g, ì, , s, a, u, , n, à, y, , v, ề...\n",
       "4       [m, ỗ, i, , l, ầ, n, , c, ó, , v, i, d, e, o, ...\n",
       "                              ...                        \n",
       "5543    [đ, ư, ờ, n, g, , c, ủ, a, , n, h, à, , c, ụ, ...\n",
       "5544    [n, h, ì, n, , m, ặ, t, , h, é, o, , q, u, e, ...\n",
       "5545    [t, a, o, , đ, i, , x, e, , m, á, y, , m, ỗ, i...\n",
       "5546    [t, h, í, c, h, , t, h, â, n, , h, ì, n, h, , ...\n",
       "5547    [ư, ớ, c, , m, ơ, , n, h, ỏ, , n, h, o, i, , c...\n",
       "Name: Sentence, Length: 5548, dtype: object"
      ]
     },
     "execution_count": 101,
     "metadata": {},
     "output_type": "execute_result"
    }
   ],
   "source": [
    "method_5_1 = train_df[\"Sentence\"].apply(lambda x: stop_word_removal(x))\n",
    "method_5_1"
   ]
  },
  {
   "cell_type": "code",
   "execution_count": 102,
   "metadata": {},
   "outputs": [
    {
     "data": {
      "text/plain": [
       "0      [t, í, n, h, , t, a, o, , t, a, o, , b, i, ế, ...\n",
       "1      [l, ạ, i, , l, à, , l, à, o, , c, a, i, , ,, ,...\n",
       "2                [b, ị, , t, ừ, , c, h, ố, i, , r, ồ, i]\n",
       "3      [t, a, m, , đ, ả, o, , t, r, ờ, i, , đ, ẹ, p, ...\n",
       "4      [đ, ọ, c, , b, ì, n, h, , l, u, ậ, n, , c, ủ, ...\n",
       "                             ...                        \n",
       "681             [n, h, ọ, c, , l, ò, n, g, , :, (, (, (]\n",
       "682    [t, a, o, , đ, ã, , r, ấ, t, , m, u, ố, n, , l...\n",
       "683    [c, ơ, m, , t, ấ, m, , ở, , n, g, o, à, i, , c...\n",
       "684    [c, h, ấ, t, , l, i, ệ, u, , đ, ỉ, n, h, , q, ...\n",
       "685    [d, u, m, e, , l, ũ, , m, ấ, t, , d, ạ, y, , ....\n",
       "Name: Sentence, Length: 686, dtype: object"
      ]
     },
     "execution_count": 102,
     "metadata": {},
     "output_type": "execute_result"
    }
   ],
   "source": [
    "method_5_2 = val_df[\"Sentence\"].apply(lambda x: stop_word_removal(x))\n",
    "method_5_2"
   ]
  },
  {
   "cell_type": "code",
   "execution_count": 103,
   "metadata": {},
   "outputs": [
    {
     "data": {
      "text/plain": [
       "0      [n, g, ư, ờ, i, , t, a, , c, ó, , b, ạ, n, , b...\n",
       "1      [c, h, o, , n, g, h, ỉ, , v, i, ê, c, , m, ó, ...\n",
       "2                           [k, i, n, h, , v, ã, i, , 😡]\n",
       "3      [n, h, à, , t, h, ì, , k, h, ô, n, g, , x, a, ...\n",
       "4      [b, ố, , k, h, ô, n, g, , t, h, í, c, h, , n, ...\n",
       "                             ...                        \n",
       "688    [l, ú, c, , t, h, ì, , c, u, ố, c, , đ, ấ, t, ...\n",
       "689    [c, á, c, , b, á, c, , d, ẫ, n, , c, r, u, s, ...\n",
       "690    [v, ợ, , c, h, ồ, n, g, , r, ồ, i, , m, à, , t...\n",
       "691    [b, e, p, , n, à, y, , v, à, o, , b, i, n, h, ...\n",
       "692    [đ, ô, i, , m, ắ, t, , đ, ằ, m, , t, h, ắ, m, ...\n",
       "Name: Sentence, Length: 693, dtype: object"
      ]
     },
     "execution_count": 103,
     "metadata": {},
     "output_type": "execute_result"
    }
   ],
   "source": [
    "method_5_3 = test_df[\"Sentence\"].apply(lambda x: stop_word_removal(x))\n",
    "method_5_3"
   ]
  },
  {
   "cell_type": "markdown",
   "metadata": {},
   "source": [
    "6. Remove one-length words (word contains one character)"
   ]
  },
  {
   "cell_type": "code",
   "execution_count": 104,
   "metadata": {},
   "outputs": [],
   "source": [
    "def remove_length_one(sentenceList):\n",
    "        # Remove words with one character\n",
    "        one_length_gone = [\n",
    "            \" \".join(\n",
    "                [\n",
    "                    word\n",
    "                    for word in sentence.split()\n",
    "                    if len(word) >= 2 or emoji.emoji_count(word) > 0\n",
    "                ]\n",
    "            )\n",
    "            for sentence in sentenceList\n",
    "        ]\n",
    "\n",
    "        return one_length_gone"
   ]
  },
  {
   "cell_type": "code",
   "execution_count": 105,
   "metadata": {},
   "outputs": [
    {
     "data": {
      "text/plain": [
       "0       [, , , , , , , , , , , , , , , , , , , , , , ,...\n",
       "1       [, , , , , , , , , , , , , , , , , , , , , , ,...\n",
       "2       [, , , , , , , , , , , , , , , , , , , , , , ,...\n",
       "3       [, , , , , , , , , , , , , , , , , , , , , , ,...\n",
       "4       [, , , , , , , , , , , , , , , , , , , , , , ,...\n",
       "                              ...                        \n",
       "5543    [, , , , , , , , , , , , , , , , , , , , , , ,...\n",
       "5544         [, , , , , , , , , , , , , , , , , , , , , ]\n",
       "5545    [, , , , , , , , , , , , , , , , , , , , , , ,...\n",
       "5546    [, , , , , , , , , , , , , , , , , , , , , , ,...\n",
       "5547    [, , , , , , , , , , , , , , , , , , , , , , ,...\n",
       "Name: Sentence, Length: 5548, dtype: object"
      ]
     },
     "execution_count": 105,
     "metadata": {},
     "output_type": "execute_result"
    }
   ],
   "source": [
    "method_6_1 = train_df[\"Sentence\"].apply(lambda x: remove_length_one(x))\n",
    "method_6_1"
   ]
  },
  {
   "cell_type": "code",
   "execution_count": 106,
   "metadata": {},
   "outputs": [
    {
     "data": {
      "text/plain": [
       "0      [, , , , , , , , , , , , , , , , , , , , , , ,...\n",
       "1      [, , , , , , , , , , , , , , , , , , , , , , ,...\n",
       "2                           [, , , , , , , , , , , , , ]\n",
       "3      [, , , , , , , , , , , , , , , , , , , , , , ,...\n",
       "4      [, , , , , , , , , , , , , , , , , , , , , , ,...\n",
       "                             ...                        \n",
       "681                         [, , , , , , , , , , , , , ]\n",
       "682    [, , , , , , , , , , , , , , , , , , , , , , ,...\n",
       "683    [, , , , , , , , , , , , , , , , , , , , , , ,...\n",
       "684                 [, , , , , , , , , , , , , , , , , ]\n",
       "685    [, , , , , , , , , , , , , , , , , , , , , , ,...\n",
       "Name: Sentence, Length: 686, dtype: object"
      ]
     },
     "execution_count": 106,
     "metadata": {},
     "output_type": "execute_result"
    }
   ],
   "source": [
    "method_6_2 = val_df[\"Sentence\"].apply(lambda x: remove_length_one(x))\n",
    "method_6_2"
   ]
  },
  {
   "cell_type": "code",
   "execution_count": 107,
   "metadata": {},
   "outputs": [
    {
     "data": {
      "text/plain": [
       "0      [, , , , , , , , , , , , , , , , , , , , , , ,...\n",
       "1      [, , , , , , , , , , , , , , , , , , , , , , ,...\n",
       "2                                  [, , , , , , , , , 😡]\n",
       "3      [, , , , , , , , , , , , , , , , , , , , , , ,...\n",
       "4      [, , , , , , , , , , , , , , , , , , , , , , ,...\n",
       "                             ...                        \n",
       "688    [, , , , , , , , , , , , , , , , , , , , , , ,...\n",
       "689    [, , , , , , , , , , , , , , , , , , , , , , ,...\n",
       "690    [, , , , , , , , , , , , , , , , , , , , , , ,...\n",
       "691    [, , , , , , , , , , , , , , , , , , , , , , ,...\n",
       "692             [, , , , , , , , , , , , , , , , , , , ]\n",
       "Name: Sentence, Length: 693, dtype: object"
      ]
     },
     "execution_count": 107,
     "metadata": {},
     "output_type": "execute_result"
    }
   ],
   "source": [
    "method_6_3 = test_df[\"Sentence\"].apply(lambda x: remove_length_one(x))\n",
    "method_6_3"
   ]
  },
  {
   "cell_type": "markdown",
   "metadata": {},
   "source": [
    "# Data Imbalance"
   ]
  }
 ],
 "metadata": {
  "kernelspec": {
   "display_name": "Python 3",
   "language": "python",
   "name": "python3"
  },
  "language_info": {
   "codemirror_mode": {
    "name": "ipython",
    "version": 3
   },
   "file_extension": ".py",
   "mimetype": "text/x-python",
   "name": "python",
   "nbconvert_exporter": "python",
   "pygments_lexer": "ipython3",
   "version": "3.9.6"
  },
  "orig_nbformat": 4
 },
 "nbformat": 4,
 "nbformat_minor": 2
}
